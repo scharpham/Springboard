{
 "cells": [
  {
   "cell_type": "markdown",
   "metadata": {},
   "source": [
    "Chapter 4: Classification (slides, playlist)\n",
    "\n",
    "    Introduction to Classification (10:25)\n",
    "    Logistic Regression and Maximum Likelihood (9:07)\n",
    "    Multivariate Logistic Regression and Confounding (9:53)\n",
    "    Case-Control Sampling and Multiclass Logistic Regression (7:28)\n",
    "    Linear Discriminant Analysis and Bayes Theorem (7:12)\n",
    "    Univariate Linear Discriminant Analysis (7:37)\n",
    "    Multivariate Linear Discriminant Analysis and ROC Curves (17:42)\n",
    "    Quadratic Discriminant Analysis and Naive Bayes (10:07)\n",
    "    Lab: Logistic Regression (10:14)\n",
    "    Lab: Linear Discriminant Analysis (8:22)\n",
    "    Lab: K-Nearest Neighbors (5:01)\n"
   ]
  },
  {
   "cell_type": "markdown",
   "metadata": {},
   "source": []
  },
  {
   "cell_type": "markdown",
   "metadata": {},
   "source": [
    "Introduction to Classification (10:25) 06/02/2021"
   ]
  },
  {
   "cell_type": "markdown",
   "metadata": {},
   "source": [
    "Logistic Regression and Maximum Likelihood (9:07) 06/02/2021\n"
   ]
  },
  {
   "cell_type": "markdown",
   "metadata": {},
   "source": [
    "\n",
    "Multivariate Logistic Regression and Confounding (9:53)"
   ]
  },
  {
   "cell_type": "code",
   "execution_count": null,
   "metadata": {},
   "outputs": [],
   "source": []
  }
 ],
 "metadata": {
  "kernelspec": {
   "display_name": "Python 3",
   "language": "python",
   "name": "python3"
  },
  "language_info": {
   "codemirror_mode": {
    "name": "ipython",
    "version": 3
   },
   "file_extension": ".py",
   "mimetype": "text/x-python",
   "name": "python",
   "nbconvert_exporter": "python",
   "pygments_lexer": "ipython3",
   "version": "3.8.5"
  }
 },
 "nbformat": 4,
 "nbformat_minor": 4
}
