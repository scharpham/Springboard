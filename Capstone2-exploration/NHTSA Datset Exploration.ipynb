{
 "cells": [
  {
   "cell_type": "code",
   "execution_count": 15,
   "metadata": {},
   "outputs": [],
   "source": [
    "import pandas as pd\n",
    "import chardet\n",
    "import matplotlib.pyplot as plt"
   ]
  },
  {
   "cell_type": "code",
   "execution_count": 22,
   "metadata": {},
   "outputs": [
    {
     "name": "stdout",
     "output_type": "stream",
     "text": [
      "<_io.TextIOWrapper name='./NHTSA/PER_AUX.csv' mode='r' encoding='cp1252'>\n"
     ]
    }
   ],
   "source": [
    "\n",
    "with open('./NHTSA/PER_AUX.csv') as file:\n",
    "    print(file)\n"
   ]
  },
  {
   "cell_type": "code",
   "execution_count": 75,
   "metadata": {},
   "outputs": [
    {
     "name": "stderr",
     "output_type": "stream",
     "text": [
      "C:\\Users\\Joe\\anaconda3\\lib\\site-packages\\IPython\\core\\interactiveshell.py:3146: DtypeWarning: Columns (40,42,69) have mixed types.Specify dtype option on import or set low_memory=False.\n",
      "  has_raised = await self.run_ast_nodes(code_ast.body, cell_name,\n"
     ]
    }
   ],
   "source": [
    "df1 = pd.read_csv('./NHTSA/accident.csv', encoding ='cp1252')"
   ]
  },
  {
   "cell_type": "code",
   "execution_count": 76,
   "metadata": {},
   "outputs": [
    {
     "data": {
      "text/plain": [
       "1    30896\n",
       "2     1970\n",
       "3      287\n",
       "4       70\n",
       "5       12\n",
       "6        5\n",
       "7        3\n",
       "8        1\n",
       "Name: FATALS, dtype: int64"
      ]
     },
     "execution_count": 76,
     "metadata": {},
     "output_type": "execute_result"
    }
   ],
   "source": [
    "df1.FATALS.value_counts()"
   ]
  },
  {
   "cell_type": "code",
   "execution_count": 77,
   "metadata": {},
   "outputs": [],
   "source": [
    "df2 = pd.read_csv('./NHTSA/PER_AUX.csv', encoding ='cp1252')"
   ]
  },
  {
   "cell_type": "code",
   "execution_count": 78,
   "metadata": {},
   "outputs": [],
   "source": [
    "driverfat = df2[df2['A_PTYPE_FORMAT'] =='Driver']"
   ]
  },
  {
   "cell_type": "code",
   "execution_count": 79,
   "metadata": {},
   "outputs": [
    {
     "data": {
      "text/plain": [
       "<AxesSubplot:>"
      ]
     },
     "execution_count": 79,
     "metadata": {},
     "output_type": "execute_result"
    },
    {
     "data": {
      "image/png": "[encoded data removed]",
      "text/plain": [
       "<Figure size 432x288 with 1 Axes>"
      ]
     },
     "metadata": {
      "needs_background": "light"
     },
     "output_type": "display_data"
    }
   ],
   "source": [
    "driverfat.A_AGE7_FORMAT.hist()"
   ]
  },
  {
   "cell_type": "code",
   "execution_count": 80,
   "metadata": {},
   "outputs": [
    {
     "data": {
      "text/plain": [
       "<AxesSubplot:>"
      ]
     },
     "execution_count": 80,
     "metadata": {},
     "output_type": "execute_result"
    },
    {
     "data": {
      "image/png": "[encoded data removed]",
      "text/plain": [
       "<Figure size 1080x648 with 1 Axes>"
      ]
     },
     "metadata": {
      "needs_background": "light"
     },
     "output_type": "display_data"
    }
   ],
   "source": [
    "plt.figure(figsize = (15,9))\n",
    "driverfat.A_AGE7_FORMAT.hist()"
   ]
  },
  {
   "cell_type": "code",
   "execution_count": 81,
   "metadata": {},
   "outputs": [
    {
     "data": {
      "text/html": [
       "<div>\n",
       "<style scoped>\n",
       "    .dataframe tbody tr th:only-of-type {\n",
       "        vertical-align: middle;\n",
       "    }\n",
       "\n",
       "    .dataframe tbody tr th {\n",
       "        vertical-align: top;\n",
       "    }\n",
       "\n",
       "    .dataframe thead th {\n",
       "        text-align: right;\n",
       "    }\n",
       "</style>\n",
       "<table border=\"1\" class=\"dataframe\">\n",
       "  <thead>\n",
       "    <tr style=\"text-align: right;\">\n",
       "      <th></th>\n",
       "      <th>ST_CASE</th>\n",
       "      <th>A_BODY</th>\n",
       "      <th>A_BODY_FORMAT</th>\n",
       "      <th>A_CDL_S</th>\n",
       "      <th>A_CDL_S_FORMAT</th>\n",
       "      <th>A_DRDIS</th>\n",
       "      <th>A_DRDIS_FORMAT</th>\n",
       "      <th>A_DRDRO</th>\n",
       "      <th>A_DRDRO_FORMAT</th>\n",
       "      <th>A_FIRE_EXP</th>\n",
       "      <th>...</th>\n",
       "      <th>A_MOD_YR_FORMAT</th>\n",
       "      <th>A_SBUS</th>\n",
       "      <th>A_SBUS_FORMAT</th>\n",
       "      <th>A_SPVEH</th>\n",
       "      <th>A_SPVEH_FORMAT</th>\n",
       "      <th>A_VROLL</th>\n",
       "      <th>A_VROLL_FORMAT</th>\n",
       "      <th>YEAR</th>\n",
       "      <th>YEAR_FORMAT</th>\n",
       "      <th>VEH_NO</th>\n",
       "    </tr>\n",
       "  </thead>\n",
       "  <tbody>\n",
       "    <tr>\n",
       "      <th>0</th>\n",
       "      <td>10001</td>\n",
       "      <td>1</td>\n",
       "      <td>Passenger Car</td>\n",
       "      <td>2</td>\n",
       "      <td>Invalid</td>\n",
       "      <td>2</td>\n",
       "      <td>Other</td>\n",
       "      <td>2</td>\n",
       "      <td>Other</td>\n",
       "      <td>1</td>\n",
       "      <td>...</td>\n",
       "      <td>2009</td>\n",
       "      <td>3</td>\n",
       "      <td>Other Body Type</td>\n",
       "      <td>1</td>\n",
       "      <td>Speed Involved</td>\n",
       "      <td>2</td>\n",
       "      <td>No Rollover</td>\n",
       "      <td>2019</td>\n",
       "      <td>2019</td>\n",
       "      <td>1</td>\n",
       "    </tr>\n",
       "    <tr>\n",
       "      <th>1</th>\n",
       "      <td>10001</td>\n",
       "      <td>6</td>\n",
       "      <td>Large Truck</td>\n",
       "      <td>1</td>\n",
       "      <td>Valid</td>\n",
       "      <td>2</td>\n",
       "      <td>Other</td>\n",
       "      <td>2</td>\n",
       "      <td>Other</td>\n",
       "      <td>1</td>\n",
       "      <td>...</td>\n",
       "      <td>2001</td>\n",
       "      <td>3</td>\n",
       "      <td>Other Body Type</td>\n",
       "      <td>2</td>\n",
       "      <td>No Speed Involved</td>\n",
       "      <td>2</td>\n",
       "      <td>No Rollover</td>\n",
       "      <td>2019</td>\n",
       "      <td>2019</td>\n",
       "      <td>2</td>\n",
       "    </tr>\n",
       "    <tr>\n",
       "      <th>2</th>\n",
       "      <td>10002</td>\n",
       "      <td>1</td>\n",
       "      <td>Passenger Car</td>\n",
       "      <td>2</td>\n",
       "      <td>Invalid</td>\n",
       "      <td>2</td>\n",
       "      <td>Other</td>\n",
       "      <td>2</td>\n",
       "      <td>Other</td>\n",
       "      <td>1</td>\n",
       "      <td>...</td>\n",
       "      <td>2003</td>\n",
       "      <td>3</td>\n",
       "      <td>Other Body Type</td>\n",
       "      <td>1</td>\n",
       "      <td>Speed Involved</td>\n",
       "      <td>1</td>\n",
       "      <td>Rollover</td>\n",
       "      <td>2019</td>\n",
       "      <td>2019</td>\n",
       "      <td>1</td>\n",
       "    </tr>\n",
       "    <tr>\n",
       "      <th>3</th>\n",
       "      <td>10002</td>\n",
       "      <td>3</td>\n",
       "      <td>Light Truck - Utility</td>\n",
       "      <td>2</td>\n",
       "      <td>Invalid</td>\n",
       "      <td>2</td>\n",
       "      <td>Other</td>\n",
       "      <td>2</td>\n",
       "      <td>Other</td>\n",
       "      <td>1</td>\n",
       "      <td>...</td>\n",
       "      <td>2007</td>\n",
       "      <td>3</td>\n",
       "      <td>Other Body Type</td>\n",
       "      <td>2</td>\n",
       "      <td>No Speed Involved</td>\n",
       "      <td>2</td>\n",
       "      <td>No Rollover</td>\n",
       "      <td>2019</td>\n",
       "      <td>2019</td>\n",
       "      <td>2</td>\n",
       "    </tr>\n",
       "    <tr>\n",
       "      <th>4</th>\n",
       "      <td>10003</td>\n",
       "      <td>1</td>\n",
       "      <td>Passenger Car</td>\n",
       "      <td>2</td>\n",
       "      <td>Invalid</td>\n",
       "      <td>2</td>\n",
       "      <td>Other</td>\n",
       "      <td>2</td>\n",
       "      <td>Other</td>\n",
       "      <td>1</td>\n",
       "      <td>...</td>\n",
       "      <td>2007</td>\n",
       "      <td>3</td>\n",
       "      <td>Other Body Type</td>\n",
       "      <td>1</td>\n",
       "      <td>Speed Involved</td>\n",
       "      <td>2</td>\n",
       "      <td>No Rollover</td>\n",
       "      <td>2019</td>\n",
       "      <td>2019</td>\n",
       "      <td>1</td>\n",
       "    </tr>\n",
       "  </tbody>\n",
       "</table>\n",
       "<p>5 rows × 32 columns</p>\n",
       "</div>"
      ],
      "text/plain": [
       "   ST_CASE  A_BODY          A_BODY_FORMAT  A_CDL_S A_CDL_S_FORMAT  A_DRDIS  \\\n",
       "0    10001       1          Passenger Car        2        Invalid        2   \n",
       "1    10001       6            Large Truck        1          Valid        2   \n",
       "2    10002       1          Passenger Car        2        Invalid        2   \n",
       "3    10002       3  Light Truck - Utility        2        Invalid        2   \n",
       "4    10003       1          Passenger Car        2        Invalid        2   \n",
       "\n",
       "  A_DRDIS_FORMAT  A_DRDRO A_DRDRO_FORMAT  A_FIRE_EXP  ... A_MOD_YR_FORMAT  \\\n",
       "0          Other        2          Other           1  ...            2009   \n",
       "1          Other        2          Other           1  ...            2001   \n",
       "2          Other        2          Other           1  ...            2003   \n",
       "3          Other        2          Other           1  ...            2007   \n",
       "4          Other        2          Other           1  ...            2007   \n",
       "\n",
       "   A_SBUS    A_SBUS_FORMAT  A_SPVEH     A_SPVEH_FORMAT  A_VROLL  \\\n",
       "0       3  Other Body Type        1     Speed Involved        2   \n",
       "1       3  Other Body Type        2  No Speed Involved        2   \n",
       "2       3  Other Body Type        1     Speed Involved        1   \n",
       "3       3  Other Body Type        2  No Speed Involved        2   \n",
       "4       3  Other Body Type        1     Speed Involved        2   \n",
       "\n",
       "  A_VROLL_FORMAT  YEAR YEAR_FORMAT  VEH_NO  \n",
       "0    No Rollover  2019        2019       1  \n",
       "1    No Rollover  2019        2019       2  \n",
       "2       Rollover  2019        2019       1  \n",
       "3    No Rollover  2019        2019       2  \n",
       "4    No Rollover  2019        2019       1  \n",
       "\n",
       "[5 rows x 32 columns]"
      ]
     },
     "execution_count": 81,
     "metadata": {},
     "output_type": "execute_result"
    }
   ],
   "source": [
    "df3 = pd.read_csv('./NHTSA/VEH_AUX.csv', encoding ='cp1252')\n",
    "df3.head()"
   ]
  },
  {
   "cell_type": "code",
   "execution_count": 85,
   "metadata": {},
   "outputs": [],
   "source": [
    "merged1  = df1.merge(df2, left_on = 'ST_CASE', right_on = 'ST_CASE')\n",
    "merged2 = merged1.merge(df3, left_on = 'ST_CASE', right_on = 'ST_CASE')"
   ]
  },
  {
   "cell_type": "code",
   "execution_count": 86,
   "metadata": {},
   "outputs": [
    {
     "name": "stdout",
     "output_type": "stream",
     "text": [
      "STATE_x\n",
      "STATENAME_x\n",
      "ST_CASE\n",
      "VE_TOTAL_x\n",
      "VE_FORMS_x\n",
      "PVH_INVL_x\n",
      "PEDS_x\n",
      "PERSONS_x\n",
      "PERMVIT_x\n",
      "PERNOTMVIT_x\n",
      "COUNTY_x\n",
      "COUNTYNAME_x\n",
      "CITY_x\n",
      "CITYNAME_x\n",
      "DAY_x\n",
      "DAYNAME_x\n",
      "MONTH_x\n",
      "MONTHNAME_x\n",
      "YEAR_x\n",
      "DAY_WEEK_x\n",
      "DAY_WEEKNAME_x\n",
      "HOUR_x\n",
      "HOURNAME_x\n",
      "MINUTE_x\n",
      "MINUTENAME_x\n",
      "NHS_x\n",
      "NHSNAME_x\n",
      "ROUTE_x\n",
      "ROUTENAME_x\n",
      "TWAY_ID_x\n",
      "TWAY_ID2_x\n",
      "RUR_URB_x\n",
      "RUR_URBNAME_x\n",
      "FUNC_SYS_x\n",
      "FUNC_SYSNAME_x\n",
      "RD_OWNER_x\n",
      "RD_OWNERNAME_x\n",
      "MILEPT_x\n",
      "MILEPTNAME_x\n",
      "LATITUDE_x\n",
      "LATITUDENAME_x\n",
      "LONGITUD_x\n",
      "LONGITUDNAME_x\n",
      "SP_JUR_x\n",
      "SP_JURNAME_x\n",
      "HARM_EV_x\n",
      "HARM_EVNAME_x\n",
      "MAN_COLL_x\n",
      "MAN_COLLNAME_x\n",
      "RELJCT1_x\n",
      "RELJCT1NAME_x\n",
      "RELJCT2_x\n",
      "RELJCT2NAME_x\n",
      "TYP_INT_x\n",
      "TYP_INTNAME_x\n",
      "WRK_ZONE_x\n",
      "WRK_ZONENAME_x\n",
      "REL_ROAD_x\n",
      "REL_ROADNAME_x\n",
      "LGT_COND_x\n",
      "LGT_CONDNAME_x\n",
      "WEATHER1_x\n",
      "WEATHER1NAME_x\n",
      "WEATHER2_x\n",
      "WEATHER2NAME_x\n",
      "WEATHER_x\n",
      "WEATHERNAME_x\n",
      "SCH_BUS_x\n",
      "SCH_BUSNAME_x\n",
      "RAIL_x\n",
      "RAILNAME_x\n",
      "NOT_HOUR_x\n",
      "NOT_HOURNAME_x\n",
      "NOT_MIN_x\n",
      "NOT_MINNAME_x\n",
      "ARR_HOUR_x\n",
      "ARR_HOURNAME_x\n",
      "ARR_MIN_x\n",
      "ARR_MINNAME_x\n",
      "HOSP_HR_x\n",
      "HOSP_HRNAME_x\n",
      "HOSP_MN_x\n",
      "HOSP_MNNAME_x\n",
      "CF1_x\n",
      "CF1NAME_x\n",
      "CF2_x\n",
      "CF2NAME_x\n",
      "CF3_x\n",
      "CF3NAME_x\n",
      "FATALS_x\n",
      "DRUNK_DR_x\n",
      "A_BODY\n",
      "A_BODY_FORMAT\n",
      "A_CDL_S\n",
      "A_CDL_S_FORMAT\n",
      "A_DRDIS\n",
      "A_DRDIS_FORMAT\n",
      "A_DRDRO\n",
      "A_DRDRO_FORMAT\n",
      "A_FIRE_EXP\n",
      "A_FIRE_EXP_FORMAT\n",
      "A_IMP1\n",
      "A_IMP1_FORMAT\n",
      "A_IMP2\n",
      "A_IMP2_FORMAT\n",
      "A_LIC_C\n",
      "A_LIC_C_FORMAT\n",
      "A_LIC_S\n",
      "A_LIC_S_FORMAT\n",
      "A_MC_L_S\n",
      "A_MC_L_S_FORMAT\n",
      "A_MOD_YR\n",
      "A_MOD_YR_FORMAT\n",
      "A_SBUS\n",
      "A_SBUS_FORMAT\n",
      "A_SPVEH\n",
      "A_SPVEH_FORMAT\n",
      "A_VROLL\n",
      "A_VROLL_FORMAT\n",
      "YEAR_y\n",
      "YEAR_FORMAT\n",
      "VEH_NO\n",
      "STATE_y\n",
      "STATENAME_y\n",
      "VE_TOTAL_y\n",
      "VE_FORMS_y\n",
      "PVH_INVL_y\n",
      "PEDS_y\n",
      "PERSONS_y\n",
      "PERMVIT_y\n",
      "PERNOTMVIT_y\n",
      "COUNTY_y\n",
      "COUNTYNAME_y\n",
      "CITY_y\n",
      "CITYNAME_y\n",
      "DAY_y\n",
      "DAYNAME_y\n",
      "MONTH_y\n",
      "MONTHNAME_y\n",
      "YEAR\n",
      "DAY_WEEK_y\n",
      "DAY_WEEKNAME_y\n",
      "HOUR_y\n",
      "HOURNAME_y\n",
      "MINUTE_y\n",
      "MINUTENAME_y\n",
      "NHS_y\n",
      "NHSNAME_y\n",
      "ROUTE_y\n",
      "ROUTENAME_y\n",
      "TWAY_ID_y\n",
      "TWAY_ID2_y\n",
      "RUR_URB_y\n",
      "RUR_URBNAME_y\n",
      "FUNC_SYS_y\n",
      "FUNC_SYSNAME_y\n",
      "RD_OWNER_y\n",
      "RD_OWNERNAME_y\n",
      "MILEPT_y\n",
      "MILEPTNAME_y\n",
      "LATITUDE_y\n",
      "LATITUDENAME_y\n",
      "LONGITUD_y\n",
      "LONGITUDNAME_y\n",
      "SP_JUR_y\n",
      "SP_JURNAME_y\n",
      "HARM_EV_y\n",
      "HARM_EVNAME_y\n",
      "MAN_COLL_y\n",
      "MAN_COLLNAME_y\n",
      "RELJCT1_y\n",
      "RELJCT1NAME_y\n",
      "RELJCT2_y\n",
      "RELJCT2NAME_y\n",
      "TYP_INT_y\n",
      "TYP_INTNAME_y\n",
      "WRK_ZONE_y\n",
      "WRK_ZONENAME_y\n",
      "REL_ROAD_y\n",
      "REL_ROADNAME_y\n",
      "LGT_COND_y\n",
      "LGT_CONDNAME_y\n",
      "WEATHER1_y\n",
      "WEATHER1NAME_y\n",
      "WEATHER2_y\n",
      "WEATHER2NAME_y\n",
      "WEATHER_y\n",
      "WEATHERNAME_y\n",
      "SCH_BUS_y\n",
      "SCH_BUSNAME_y\n",
      "RAIL_y\n",
      "RAILNAME_y\n",
      "NOT_HOUR_y\n",
      "NOT_HOURNAME_y\n",
      "NOT_MIN_y\n",
      "NOT_MINNAME_y\n",
      "ARR_HOUR_y\n",
      "ARR_HOURNAME_y\n",
      "ARR_MIN_y\n",
      "ARR_MINNAME_y\n",
      "HOSP_HR_y\n",
      "HOSP_HRNAME_y\n",
      "HOSP_MN_y\n",
      "HOSP_MNNAME_y\n",
      "CF1_y\n",
      "CF1NAME_y\n",
      "CF2_y\n",
      "CF2NAME_y\n",
      "CF3_y\n",
      "CF3NAME_y\n",
      "FATALS_y\n",
      "DRUNK_DR_y\n"
     ]
    }
   ],
   "source": [
    "for i in merged.columns:\n",
    "    print(i)"
   ]
  },
  {
   "cell_type": "code",
   "execution_count": 92,
   "metadata": {},
   "outputs": [],
   "source": [
    "drivers = merged2[merged2['A_PTYPE_FORMAT'] =='Driver']"
   ]
  },
  {
   "cell_type": "code",
   "execution_count": 90,
   "metadata": {},
   "outputs": [],
   "source": [
    "cdl_drivers = drivers[drivers['A_CDL_S'] ==1]"
   ]
  },
  {
   "cell_type": "code",
   "execution_count": 93,
   "metadata": {},
   "outputs": [
    {
     "data": {
      "text/plain": [
       "Index(['STATE', 'STATENAME', 'ST_CASE', 'VE_TOTAL', 'VE_FORMS', 'PVH_INVL',\n",
       "       'PEDS', 'PERSONS', 'PERMVIT', 'PERNOTMVIT',\n",
       "       ...\n",
       "       'A_MOD_YR_FORMAT', 'A_SBUS', 'A_SBUS_FORMAT', 'A_SPVEH',\n",
       "       'A_SPVEH_FORMAT', 'A_VROLL', 'A_VROLL_FORMAT', 'YEAR', 'YEAR_FORMAT_y',\n",
       "       'VEH_NO_y'],\n",
       "      dtype='object', length=166)"
      ]
     },
     "execution_count": 93,
     "metadata": {},
     "output_type": "execute_result"
    }
   ],
   "source": [
    "cdl_drivers.columns"
   ]
  },
  {
   "cell_type": "code",
   "execution_count": 105,
   "metadata": {},
   "outputs": [
    {
     "data": {
      "text/plain": [
       "<AxesSubplot:>"
      ]
     },
     "execution_count": 105,
     "metadata": {},
     "output_type": "execute_result"
    },
    {
     "data": {
      "image/png": "[encoded data removed]",
      "text/plain": [
       "<Figure size 864x648 with 1 Axes>"
      ]
     },
     "metadata": {
      "needs_background": "light"
     },
     "output_type": "display_data"
    }
   ],
   "source": [
    "plt.figure(figsize = (12,9))\n",
    "\n",
    "cdl_drivers['A_AGE7'].hist()"
   ]
  },
  {
   "cell_type": "code",
   "execution_count": 110,
   "metadata": {},
   "outputs": [
    {
     "data": {
      "text/plain": [
       "<AxesSubplot:>"
      ]
     },
     "execution_count": 110,
     "metadata": {},
     "output_type": "execute_result"
    },
    {
     "data": {
      "image/png": "[encoded data removed]",
      "text/plain": [
       "<Figure size 432x288 with 1 Axes>"
      ]
     },
     "metadata": {
      "needs_background": "light"
     },
     "output_type": "display_data"
    }
   ],
   "source": [
    "cdl_drivers.STATE.hist()\n",
    "\n"
   ]
  },
  {
   "cell_type": "code",
   "execution_count": 103,
   "metadata": {},
   "outputs": [],
   "source": []
  },
  {
   "cell_type": "code",
   "execution_count": null,
   "metadata": {},
   "outputs": [],
   "source": []
  }
 ],
 "metadata": {
  "kernelspec": {
   "display_name": "Python 3",
   "language": "python",
   "name": "python3"
  },
  "language_info": {
   "codemirror_mode": {
    "name": "ipython",
    "version": 3
   },
   "file_extension": ".py",
   "mimetype": "text/x-python",
   "name": "python",
   "nbconvert_exporter": "python",
   "pygments_lexer": "ipython3",
   "version": "3.8.5"
  }
 },
 "nbformat": 4,
 "nbformat_minor": 4
}
