{
 "cells": [
  {
   "cell_type": "code",
   "execution_count": 1,
   "metadata": {},
   "outputs": [],
   "source": [
    "import pandas as pd\n",
    "import matplotlib.pyplot as plt\n",
    "import numpy as np\n",
    "import warnings\n",
    "import seaborn as sns"
   ]
  },
  {
   "cell_type": "markdown",
   "metadata": {},
   "source": [
    "# Imports, Load CSV\n"
   ]
  },
  {
   "cell_type": "code",
   "execution_count": 92,
   "metadata": {},
   "outputs": [],
   "source": [
    "df1 = pd.read_csv('capstonewrangled.csv', index_col=0, low_memory=False)\n",
    "warnings.filterwarnings('ignore')\n",
    "\n",
    "warnings.simplefilter(action='ignore', category=FutureWarning)\n",
    "warnings.simplefilter(action='ignore', category=UserWarning)"
   ]
  },
  {
   "cell_type": "code",
   "execution_count": 3,
   "metadata": {},
   "outputs": [
    {
     "data": {
      "text/plain": [
       "['Accident_Index',\n",
       " '1st_Road_Class',\n",
       " '1st_Road_Number',\n",
       " '2nd_Road_Class',\n",
       " '2nd_Road_Number',\n",
       " 'Accident_Severity',\n",
       " 'Carriageway_Hazards',\n",
       " 'Date',\n",
       " 'Day_of_Week',\n",
       " 'Did_Police_Officer_Attend_Scene_of_Accident',\n",
       " 'Junction_Control',\n",
       " 'Junction_Detail',\n",
       " 'Latitude',\n",
       " 'Light_Conditions',\n",
       " 'Local_Authority_(District)',\n",
       " 'Local_Authority_(Highway)',\n",
       " 'Longitude',\n",
       " 'Number_of_Casualties',\n",
       " 'Number_of_Vehicles',\n",
       " 'Pedestrian_Crossing-Human_Control',\n",
       " 'Pedestrian_Crossing-Physical_Facilities',\n",
       " 'Police_Force',\n",
       " 'Road_Surface_Conditions',\n",
       " 'Road_Type',\n",
       " 'Special_Conditions_at_Site',\n",
       " 'Speed_limit',\n",
       " 'Time',\n",
       " 'Urban_or_Rural_Area',\n",
       " 'Weather_Conditions',\n",
       " 'Year_x',\n",
       " 'InScotland',\n",
       " 'Age_Band_of_Driver',\n",
       " 'Age_of_Vehicle',\n",
       " 'Driver_Home_Area_Type',\n",
       " 'Driver_IMD_Decile',\n",
       " 'Engine_Capacity_.CC.',\n",
       " 'Hit_Object_in_Carriageway',\n",
       " 'Hit_Object_off_Carriageway',\n",
       " 'Journey_Purpose_of_Driver',\n",
       " 'Junction_Location',\n",
       " 'make',\n",
       " 'model',\n",
       " 'Propulsion_Code',\n",
       " 'Sex_of_Driver',\n",
       " 'Skidding_and_Overturning',\n",
       " 'Towing_and_Articulation',\n",
       " 'Vehicle_Leaving_Carriageway',\n",
       " 'Vehicle_Location.Restricted_Lane',\n",
       " 'Vehicle_Manoeuvre',\n",
       " 'Vehicle_Reference',\n",
       " 'Vehicle_Type',\n",
       " 'Was_Vehicle_Left_Hand_Drive',\n",
       " 'X1st_Point_of_Impact',\n",
       " 'Year_y']"
      ]
     },
     "execution_count": 3,
     "metadata": {},
     "output_type": "execute_result"
    }
   ],
   "source": [
    "df1.columns.to_list()"
   ]
  },
  {
   "cell_type": "markdown",
   "metadata": {},
   "source": [
    "There are certain categories that are not able be used as predictors/features for the purpose of this project. For this project, I am attempting to look at variable/features that are available prior to the accident, and thus could be predictive of the future severity of new accidents. While the dataset contains tons of valuable information on location as well, the purpose is to not use the future generated model to generalize by location either, so all variables that have location, or are a proxy for location, will be removed. "
   ]
  },
  {
   "cell_type": "code",
   "execution_count": 4,
   "metadata": {},
   "outputs": [],
   "source": [
    "ls = ['Did_Police_Officer_Attend_Scene_of_Accident',#Post incident\n",
    "      'Number_of_Casualties',#A possible other target variable, but at this time not being investigate.Post-incident variable\n",
    "      'Hit_Object_in_Carriageway',#Post incident\n",
    "      'Hit_Object_off_Carriageway',#Post incident\n",
    "      'Skidding_and_Overturning',#Post incident\n",
    "      'X1st_Point_of_Impact',#Post incident\n",
    "      'Carriageway_Hazards',#Post incident\n",
    "      'Police_Force',#Location based\n",
    "      \"InScotland\",#Location based\n",
    "      'Local_Authority_(District)',#Location based\n",
    "      'Local_Authority_(Highway)',#Location based\n",
    "      'Driver_Home_Area_Type',#rural or urban etc. Location based\n",
    "      \"Driver_IMD_Decile\",#location based - a calculated score\n",
    "      'Number_of_Vehicles',#Post incident\n",
    "      'Year_x',#duplicate year from Merge\n",
    "      '1st_Road_Number',#irrelevant - location based\n",
    "      '2nd_Road_Number', #irrelevant - location based\n",
    "      'Latitude', #location based\n",
    "      'Longitude',#location based\n",
    "      \"Year_y\",#duplicate found in date\n",
    "      'Urban_or_Rural_Area'#location based\n",
    "     ]"
   ]
  },
  {
   "cell_type": "code",
   "execution_count": 5,
   "metadata": {},
   "outputs": [],
   "source": [
    "#drop all of the above columns\n",
    "df = df1.drop(ls, axis=1)"
   ]
  },
  {
   "cell_type": "code",
   "execution_count": 6,
   "metadata": {},
   "outputs": [
    {
     "data": {
      "text/html": [
       "<div>\n",
       "<style scoped>\n",
       "    .dataframe tbody tr th:only-of-type {\n",
       "        vertical-align: middle;\n",
       "    }\n",
       "\n",
       "    .dataframe tbody tr th {\n",
       "        vertical-align: top;\n",
       "    }\n",
       "\n",
       "    .dataframe thead th {\n",
       "        text-align: right;\n",
       "    }\n",
       "</style>\n",
       "<table border=\"1\" class=\"dataframe\">\n",
       "  <thead>\n",
       "    <tr style=\"text-align: right;\">\n",
       "      <th></th>\n",
       "      <th>Pedestrian_Crossing-Human_Control</th>\n",
       "      <th>Pedestrian_Crossing-Physical_Facilities</th>\n",
       "      <th>Speed_limit</th>\n",
       "      <th>Age_of_Vehicle</th>\n",
       "      <th>Engine_Capacity_.CC.</th>\n",
       "      <th>Vehicle_Location.Restricted_Lane</th>\n",
       "      <th>Vehicle_Reference</th>\n",
       "    </tr>\n",
       "  </thead>\n",
       "  <tbody>\n",
       "    <tr>\n",
       "      <th>0</th>\n",
       "      <td>0.0</td>\n",
       "      <td>5.0</td>\n",
       "      <td>30.0</td>\n",
       "      <td>3.0</td>\n",
       "      <td>8268.0</td>\n",
       "      <td>0.0</td>\n",
       "      <td>1</td>\n",
       "    </tr>\n",
       "    <tr>\n",
       "      <th>1</th>\n",
       "      <td>0.0</td>\n",
       "      <td>0.0</td>\n",
       "      <td>30.0</td>\n",
       "      <td>5.0</td>\n",
       "      <td>8300.0</td>\n",
       "      <td>0.0</td>\n",
       "      <td>1</td>\n",
       "    </tr>\n",
       "    <tr>\n",
       "      <th>2</th>\n",
       "      <td>0.0</td>\n",
       "      <td>0.0</td>\n",
       "      <td>30.0</td>\n",
       "      <td>4.0</td>\n",
       "      <td>1769.0</td>\n",
       "      <td>0.0</td>\n",
       "      <td>1</td>\n",
       "    </tr>\n",
       "    <tr>\n",
       "      <th>3</th>\n",
       "      <td>0.0</td>\n",
       "      <td>0.0</td>\n",
       "      <td>30.0</td>\n",
       "      <td>10.0</td>\n",
       "      <td>85.0</td>\n",
       "      <td>0.0</td>\n",
       "      <td>1</td>\n",
       "    </tr>\n",
       "    <tr>\n",
       "      <th>4</th>\n",
       "      <td>0.0</td>\n",
       "      <td>0.0</td>\n",
       "      <td>30.0</td>\n",
       "      <td>1.0</td>\n",
       "      <td>2976.0</td>\n",
       "      <td>0.0</td>\n",
       "      <td>1</td>\n",
       "    </tr>\n",
       "    <tr>\n",
       "      <th>...</th>\n",
       "      <td>...</td>\n",
       "      <td>...</td>\n",
       "      <td>...</td>\n",
       "      <td>...</td>\n",
       "      <td>...</td>\n",
       "      <td>...</td>\n",
       "      <td>...</td>\n",
       "    </tr>\n",
       "    <tr>\n",
       "      <th>2058403</th>\n",
       "      <td>0.0</td>\n",
       "      <td>0.0</td>\n",
       "      <td>60.0</td>\n",
       "      <td>14.0</td>\n",
       "      <td>1598.0</td>\n",
       "      <td>0.0</td>\n",
       "      <td>1</td>\n",
       "    </tr>\n",
       "    <tr>\n",
       "      <th>2058404</th>\n",
       "      <td>0.0</td>\n",
       "      <td>0.0</td>\n",
       "      <td>60.0</td>\n",
       "      <td>1.0</td>\n",
       "      <td>1598.0</td>\n",
       "      <td>0.0</td>\n",
       "      <td>2</td>\n",
       "    </tr>\n",
       "    <tr>\n",
       "      <th>2058405</th>\n",
       "      <td>0.0</td>\n",
       "      <td>0.0</td>\n",
       "      <td>70.0</td>\n",
       "      <td>1.0</td>\n",
       "      <td>1598.0</td>\n",
       "      <td>0.0</td>\n",
       "      <td>1</td>\n",
       "    </tr>\n",
       "    <tr>\n",
       "      <th>2058406</th>\n",
       "      <td>0.0</td>\n",
       "      <td>0.0</td>\n",
       "      <td>40.0</td>\n",
       "      <td>13.0</td>\n",
       "      <td>1796.0</td>\n",
       "      <td>0.0</td>\n",
       "      <td>1</td>\n",
       "    </tr>\n",
       "    <tr>\n",
       "      <th>2058407</th>\n",
       "      <td>0.0</td>\n",
       "      <td>0.0</td>\n",
       "      <td>70.0</td>\n",
       "      <td>5.0</td>\n",
       "      <td>2184.0</td>\n",
       "      <td>0.0</td>\n",
       "      <td>1</td>\n",
       "    </tr>\n",
       "  </tbody>\n",
       "</table>\n",
       "<p>2055877 rows × 7 columns</p>\n",
       "</div>"
      ],
      "text/plain": [
       "         Pedestrian_Crossing-Human_Control  \\\n",
       "0                                      0.0   \n",
       "1                                      0.0   \n",
       "2                                      0.0   \n",
       "3                                      0.0   \n",
       "4                                      0.0   \n",
       "...                                    ...   \n",
       "2058403                                0.0   \n",
       "2058404                                0.0   \n",
       "2058405                                0.0   \n",
       "2058406                                0.0   \n",
       "2058407                                0.0   \n",
       "\n",
       "         Pedestrian_Crossing-Physical_Facilities  Speed_limit  Age_of_Vehicle  \\\n",
       "0                                            5.0         30.0             3.0   \n",
       "1                                            0.0         30.0             5.0   \n",
       "2                                            0.0         30.0             4.0   \n",
       "3                                            0.0         30.0            10.0   \n",
       "4                                            0.0         30.0             1.0   \n",
       "...                                          ...          ...             ...   \n",
       "2058403                                      0.0         60.0            14.0   \n",
       "2058404                                      0.0         60.0             1.0   \n",
       "2058405                                      0.0         70.0             1.0   \n",
       "2058406                                      0.0         40.0            13.0   \n",
       "2058407                                      0.0         70.0             5.0   \n",
       "\n",
       "         Engine_Capacity_.CC.  Vehicle_Location.Restricted_Lane  \\\n",
       "0                      8268.0                               0.0   \n",
       "1                      8300.0                               0.0   \n",
       "2                      1769.0                               0.0   \n",
       "3                        85.0                               0.0   \n",
       "4                      2976.0                               0.0   \n",
       "...                       ...                               ...   \n",
       "2058403                1598.0                               0.0   \n",
       "2058404                1598.0                               0.0   \n",
       "2058405                1598.0                               0.0   \n",
       "2058406                1796.0                               0.0   \n",
       "2058407                2184.0                               0.0   \n",
       "\n",
       "         Vehicle_Reference  \n",
       "0                        1  \n",
       "1                        1  \n",
       "2                        1  \n",
       "3                        1  \n",
       "4                        1  \n",
       "...                    ...  \n",
       "2058403                  1  \n",
       "2058404                  2  \n",
       "2058405                  1  \n",
       "2058406                  1  \n",
       "2058407                  1  \n",
       "\n",
       "[2055877 rows x 7 columns]"
      ]
     },
     "execution_count": 6,
     "metadata": {},
     "output_type": "execute_result"
    }
   ],
   "source": [
    "#Select at numeric features and run pairplot to explore\n",
    "numdf = df.select_dtypes(include=['float64', 'int64'])\n",
    "numdf"
   ]
  },
  {
   "cell_type": "markdown",
   "metadata": {},
   "source": [
    "Distributions of Numerical Features\n"
   ]
  },
  {
   "cell_type": "code",
   "execution_count": 7,
   "metadata": {},
   "outputs": [
    {
     "data": {
      "text/plain": [
       "array([[<AxesSubplot:title={'center':'Pedestrian_Crossing-Human_Control'}>,\n",
       "        <AxesSubplot:title={'center':'Pedestrian_Crossing-Physical_Facilities'}>,\n",
       "        <AxesSubplot:title={'center':'Speed_limit'}>],\n",
       "       [<AxesSubplot:title={'center':'Age_of_Vehicle'}>,\n",
       "        <AxesSubplot:title={'center':'Engine_Capacity_.CC.'}>,\n",
       "        <AxesSubplot:title={'center':'Vehicle_Location.Restricted_Lane'}>],\n",
       "       [<AxesSubplot:title={'center':'Vehicle_Reference'}>,\n",
       "        <AxesSubplot:>, <AxesSubplot:>]], dtype=object)"
      ]
     },
     "execution_count": 7,
     "metadata": {},
     "output_type": "execute_result"
    },
    {
     "data": {
      "image/png": "[encoded data removed]",
      "text/plain": [
       "<Figure size 2160x1440 with 9 Axes>"
      ]
     },
     "metadata": {
      "needs_background": "light"
     },
     "output_type": "display_data"
    }
   ],
   "source": [
    "\n",
    "\n",
    "numdf.hist(bins=30, figsize =(30,20))"
   ]
  },
  {
   "cell_type": "markdown",
   "metadata": {},
   "source": [
    "# seeing distributions, remove location variables\n"
   ]
  },
  {
   "cell_type": "code",
   "execution_count": 8,
   "metadata": {},
   "outputs": [
    {
     "data": {
      "text/html": [
       "<div>\n",
       "<style scoped>\n",
       "    .dataframe tbody tr th:only-of-type {\n",
       "        vertical-align: middle;\n",
       "    }\n",
       "\n",
       "    .dataframe tbody tr th {\n",
       "        vertical-align: top;\n",
       "    }\n",
       "\n",
       "    .dataframe thead th {\n",
       "        text-align: right;\n",
       "    }\n",
       "</style>\n",
       "<table border=\"1\" class=\"dataframe\">\n",
       "  <thead>\n",
       "    <tr style=\"text-align: right;\">\n",
       "      <th></th>\n",
       "      <th>Accident_Index</th>\n",
       "      <th>1st_Road_Class</th>\n",
       "      <th>2nd_Road_Class</th>\n",
       "      <th>Accident_Severity</th>\n",
       "      <th>Date</th>\n",
       "      <th>Day_of_Week</th>\n",
       "      <th>Junction_Control</th>\n",
       "      <th>Junction_Detail</th>\n",
       "      <th>Light_Conditions</th>\n",
       "      <th>Pedestrian_Crossing-Human_Control</th>\n",
       "      <th>...</th>\n",
       "      <th>model</th>\n",
       "      <th>Propulsion_Code</th>\n",
       "      <th>Sex_of_Driver</th>\n",
       "      <th>Towing_and_Articulation</th>\n",
       "      <th>Vehicle_Leaving_Carriageway</th>\n",
       "      <th>Vehicle_Location.Restricted_Lane</th>\n",
       "      <th>Vehicle_Manoeuvre</th>\n",
       "      <th>Vehicle_Reference</th>\n",
       "      <th>Vehicle_Type</th>\n",
       "      <th>Was_Vehicle_Left_Hand_Drive</th>\n",
       "    </tr>\n",
       "  </thead>\n",
       "  <tbody>\n",
       "    <tr>\n",
       "      <th>0</th>\n",
       "      <td>200501BS00002</td>\n",
       "      <td>B</td>\n",
       "      <td>C</td>\n",
       "      <td>Slight</td>\n",
       "      <td>2005-01-05</td>\n",
       "      <td>Wednesday</td>\n",
       "      <td>Auto traffic signal</td>\n",
       "      <td>Crossroads</td>\n",
       "      <td>Darkness - lights lit</td>\n",
       "      <td>0.0</td>\n",
       "      <td>...</td>\n",
       "      <td>MISSING</td>\n",
       "      <td>Heavy oil</td>\n",
       "      <td>Male</td>\n",
       "      <td>No tow/articulation</td>\n",
       "      <td>Did not leave carriageway</td>\n",
       "      <td>0.0</td>\n",
       "      <td>Slowing or stopping</td>\n",
       "      <td>1</td>\n",
       "      <td>Bus or coach (17 or more pass seats)</td>\n",
       "      <td>No</td>\n",
       "    </tr>\n",
       "  </tbody>\n",
       "</table>\n",
       "<p>1 rows × 33 columns</p>\n",
       "</div>"
      ],
      "text/plain": [
       "  Accident_Index 1st_Road_Class 2nd_Road_Class Accident_Severity        Date  \\\n",
       "0  200501BS00002              B              C            Slight  2005-01-05   \n",
       "\n",
       "  Day_of_Week     Junction_Control Junction_Detail       Light_Conditions  \\\n",
       "0   Wednesday  Auto traffic signal      Crossroads  Darkness - lights lit   \n",
       "\n",
       "   Pedestrian_Crossing-Human_Control  ...    model Propulsion_Code  \\\n",
       "0                                0.0  ...  MISSING       Heavy oil   \n",
       "\n",
       "  Sex_of_Driver Towing_and_Articulation  Vehicle_Leaving_Carriageway  \\\n",
       "0          Male     No tow/articulation    Did not leave carriageway   \n",
       "\n",
       "  Vehicle_Location.Restricted_Lane    Vehicle_Manoeuvre Vehicle_Reference  \\\n",
       "0                              0.0  Slowing or stopping                 1   \n",
       "\n",
       "                           Vehicle_Type  Was_Vehicle_Left_Hand_Drive  \n",
       "0  Bus or coach (17 or more pass seats)                           No  \n",
       "\n",
       "[1 rows x 33 columns]"
      ]
     },
     "execution_count": 8,
     "metadata": {},
     "output_type": "execute_result"
    }
   ],
   "source": [
    "#duplicate and location based columsn removed\n",
    "df.head(1)"
   ]
  },
  {
   "cell_type": "code",
   "execution_count": 9,
   "metadata": {},
   "outputs": [],
   "source": [
    "#numdf = df.select_dtypes(include=['float64', 'int64'])\n",
    "#numdf.hist(bins=30, figsize =(30,15))"
   ]
  },
  {
   "cell_type": "code",
   "execution_count": 10,
   "metadata": {},
   "outputs": [],
   "source": [
    "# remove columns that are post-accident and impossible to be predictive of  \"Did police officer attend\", \"Number of casualties\",\n",
    "#df = df.drop(['Did_Police_Officer_Attend_Scene_of_Accident', 'Number_of_Casualties'], axis = 1)\n",
    "#df = df.drop(['Date', 'Hit_Object_in_Carriageway','Hit_Object_off_Carriageway', 'Skidding_and_Overturning','X1st_Point_of_Impact'], axis = 1)\n",
    "#df= df.drop(['Carriageway_Hazards'], axis=1)\n",
    "#df= df.drop(['Police_Force', \"InScotland\", 'Local_Authority_(District)','Local_Authority_(Highway)', 'Driver_Home_Area_Type', \"Driver_IMD_Decile\", 'Number_of_Vehicles'], axis=1)"
   ]
  },
  {
   "cell_type": "markdown",
   "metadata": {},
   "source": [
    "Looking at Categorical Features"
   ]
  },
  {
   "cell_type": "code",
   "execution_count": 11,
   "metadata": {},
   "outputs": [],
   "source": [
    "catdf = df.select_dtypes(include=['object'])"
   ]
  },
  {
   "cell_type": "code",
   "execution_count": 12,
   "metadata": {},
   "outputs": [
    {
     "data": {
      "text/html": [
       "<div>\n",
       "<style scoped>\n",
       "    .dataframe tbody tr th:only-of-type {\n",
       "        vertical-align: middle;\n",
       "    }\n",
       "\n",
       "    .dataframe tbody tr th {\n",
       "        vertical-align: top;\n",
       "    }\n",
       "\n",
       "    .dataframe thead th {\n",
       "        text-align: right;\n",
       "    }\n",
       "</style>\n",
       "<table border=\"1\" class=\"dataframe\">\n",
       "  <thead>\n",
       "    <tr style=\"text-align: right;\">\n",
       "      <th></th>\n",
       "      <th>Accident_Index</th>\n",
       "      <th>1st_Road_Class</th>\n",
       "      <th>2nd_Road_Class</th>\n",
       "      <th>Accident_Severity</th>\n",
       "      <th>Date</th>\n",
       "      <th>Day_of_Week</th>\n",
       "      <th>Junction_Control</th>\n",
       "      <th>Junction_Detail</th>\n",
       "      <th>Light_Conditions</th>\n",
       "      <th>Road_Surface_Conditions</th>\n",
       "      <th>...</th>\n",
       "      <th>Junction_Location</th>\n",
       "      <th>make</th>\n",
       "      <th>model</th>\n",
       "      <th>Propulsion_Code</th>\n",
       "      <th>Sex_of_Driver</th>\n",
       "      <th>Towing_and_Articulation</th>\n",
       "      <th>Vehicle_Leaving_Carriageway</th>\n",
       "      <th>Vehicle_Manoeuvre</th>\n",
       "      <th>Vehicle_Type</th>\n",
       "      <th>Was_Vehicle_Left_Hand_Drive</th>\n",
       "    </tr>\n",
       "  </thead>\n",
       "  <tbody>\n",
       "    <tr>\n",
       "      <th>0</th>\n",
       "      <td>200501BS00002</td>\n",
       "      <td>B</td>\n",
       "      <td>C</td>\n",
       "      <td>Slight</td>\n",
       "      <td>2005-01-05</td>\n",
       "      <td>Wednesday</td>\n",
       "      <td>Auto traffic signal</td>\n",
       "      <td>Crossroads</td>\n",
       "      <td>Darkness - lights lit</td>\n",
       "      <td>Dry</td>\n",
       "      <td>...</td>\n",
       "      <td>Leaving roundabout</td>\n",
       "      <td>DENNIS</td>\n",
       "      <td>MISSING</td>\n",
       "      <td>Heavy oil</td>\n",
       "      <td>Male</td>\n",
       "      <td>No tow/articulation</td>\n",
       "      <td>Did not leave carriageway</td>\n",
       "      <td>Slowing or stopping</td>\n",
       "      <td>Bus or coach (17 or more pass seats)</td>\n",
       "      <td>No</td>\n",
       "    </tr>\n",
       "    <tr>\n",
       "      <th>1</th>\n",
       "      <td>200501BS00003</td>\n",
       "      <td>C</td>\n",
       "      <td>Unclassified</td>\n",
       "      <td>Slight</td>\n",
       "      <td>2005-01-06</td>\n",
       "      <td>Thursday</td>\n",
       "      <td>Data missing or out of range</td>\n",
       "      <td>Not at junction or within 20 metres</td>\n",
       "      <td>Darkness - lights lit</td>\n",
       "      <td>Dry</td>\n",
       "      <td>...</td>\n",
       "      <td>Not at or within 20 metres of junction</td>\n",
       "      <td>DENNIS</td>\n",
       "      <td>MISSING</td>\n",
       "      <td>Heavy oil</td>\n",
       "      <td>Male</td>\n",
       "      <td>No tow/articulation</td>\n",
       "      <td>Did not leave carriageway</td>\n",
       "      <td>Going ahead right-hand bend</td>\n",
       "      <td>Bus or coach (17 or more pass seats)</td>\n",
       "      <td>No</td>\n",
       "    </tr>\n",
       "  </tbody>\n",
       "</table>\n",
       "<p>2 rows × 26 columns</p>\n",
       "</div>"
      ],
      "text/plain": [
       "  Accident_Index 1st_Road_Class 2nd_Road_Class Accident_Severity        Date  \\\n",
       "0  200501BS00002              B              C            Slight  2005-01-05   \n",
       "1  200501BS00003              C   Unclassified            Slight  2005-01-06   \n",
       "\n",
       "  Day_of_Week              Junction_Control  \\\n",
       "0   Wednesday           Auto traffic signal   \n",
       "1    Thursday  Data missing or out of range   \n",
       "\n",
       "                       Junction_Detail       Light_Conditions  \\\n",
       "0                           Crossroads  Darkness - lights lit   \n",
       "1  Not at junction or within 20 metres  Darkness - lights lit   \n",
       "\n",
       "  Road_Surface_Conditions  ...                       Junction_Location  \\\n",
       "0                     Dry  ...                      Leaving roundabout   \n",
       "1                     Dry  ...  Not at or within 20 metres of junction   \n",
       "\n",
       "     make    model Propulsion_Code Sex_of_Driver Towing_and_Articulation  \\\n",
       "0  DENNIS  MISSING       Heavy oil          Male     No tow/articulation   \n",
       "1  DENNIS  MISSING       Heavy oil          Male     No tow/articulation   \n",
       "\n",
       "  Vehicle_Leaving_Carriageway            Vehicle_Manoeuvre  \\\n",
       "0   Did not leave carriageway          Slowing or stopping   \n",
       "1   Did not leave carriageway  Going ahead right-hand bend   \n",
       "\n",
       "                           Vehicle_Type Was_Vehicle_Left_Hand_Drive  \n",
       "0  Bus or coach (17 or more pass seats)                          No  \n",
       "1  Bus or coach (17 or more pass seats)                          No  \n",
       "\n",
       "[2 rows x 26 columns]"
      ]
     },
     "execution_count": 12,
     "metadata": {},
     "output_type": "execute_result"
    }
   ],
   "source": [
    "catdf.head(2)"
   ]
  },
  {
   "cell_type": "code",
   "execution_count": 13,
   "metadata": {},
   "outputs": [
    {
     "data": {
      "text/plain": [
       "['Accident_Index',\n",
       " '1st_Road_Class',\n",
       " '2nd_Road_Class',\n",
       " 'Accident_Severity',\n",
       " 'Date',\n",
       " 'Day_of_Week',\n",
       " 'Junction_Control',\n",
       " 'Junction_Detail',\n",
       " 'Light_Conditions',\n",
       " 'Road_Surface_Conditions',\n",
       " 'Road_Type',\n",
       " 'Special_Conditions_at_Site',\n",
       " 'Time',\n",
       " 'Weather_Conditions',\n",
       " 'Age_Band_of_Driver',\n",
       " 'Journey_Purpose_of_Driver',\n",
       " 'Junction_Location',\n",
       " 'make',\n",
       " 'model',\n",
       " 'Propulsion_Code',\n",
       " 'Sex_of_Driver',\n",
       " 'Towing_and_Articulation',\n",
       " 'Vehicle_Leaving_Carriageway',\n",
       " 'Vehicle_Manoeuvre',\n",
       " 'Vehicle_Type',\n",
       " 'Was_Vehicle_Left_Hand_Drive']"
      ]
     },
     "execution_count": 13,
     "metadata": {},
     "output_type": "execute_result"
    }
   ],
   "source": [
    "catlist =  catdf.columns.to_list()\n",
    "catlist"
   ]
  },
  {
   "cell_type": "code",
   "execution_count": 25,
   "metadata": {},
   "outputs": [
    {
     "data": {
      "text/plain": [
       "17    188639\n",
       "16    171826\n",
       "15    157704\n",
       "8     153515\n",
       "18    141788\n",
       "14    131220\n",
       "13    130456\n",
       "12    127418\n",
       "11    113168\n",
       "9     106392\n",
       "19    101539\n",
       "10     98016\n",
       "7      92111\n",
       "20     71819\n",
       "21     55747\n",
       "22     47699\n",
       "6      37384\n",
       "23     35863\n",
       "0      25211\n",
       "1      18021\n",
       "5      15470\n",
       "2      13684\n",
       "3      11604\n",
       "4       9583\n",
       "Name: Datetime, dtype: int64"
      ]
     },
     "execution_count": 25,
     "metadata": {},
     "output_type": "execute_result"
    }
   ],
   "source": [
    "df['Datetime'] = df.Date +\" \"+ df.Time\n",
    "df['Datetime'] = pd.to_datetime(df.Datetime, infer_datetime_format=True)\n",
    "\n",
    "\n"
   ]
  },
  {
   "cell_type": "code",
   "execution_count": 78,
   "metadata": {},
   "outputs": [
    {
     "data": {
      "text/plain": [
       "Text(0, 0.5, 'Total Count')"
      ]
     },
     "execution_count": 78,
     "metadata": {},
     "output_type": "execute_result"
    },
    {
     "data": {
      "image/png": "[encoded data removed]",
      "text/plain": [
       "<Figure size 2160x504 with 1 Axes>"
      ]
     },
     "metadata": {
      "needs_background": "light"
     },
     "output_type": "display_data"
    }
   ],
   "source": [
    "\n",
    "\n",
    "\n",
    "countplt, ax = plt.subplots(figsize = (30,7))\n",
    "ax = sns.countplot(x=df.Datetime.dt.hour, data=df, color=\"c\")\n",
    "ax.set_title('Frequency of Accident By Hour in 24 hr period',fontsize = 30, fontweight='bold' )\n",
    "ax.set_xlabel('Hour Bin', fontsize = 15)\n",
    "ax.set_ylabel('Total Count', fontsize = 15)\n"
   ]
  },
  {
   "cell_type": "code",
   "execution_count": 57,
   "metadata": {},
   "outputs": [
    {
     "data": {
      "text/html": [
       "<div>\n",
       "<style scoped>\n",
       "    .dataframe tbody tr th:only-of-type {\n",
       "        vertical-align: middle;\n",
       "    }\n",
       "\n",
       "    .dataframe tbody tr th {\n",
       "        vertical-align: top;\n",
       "    }\n",
       "\n",
       "    .dataframe thead th {\n",
       "        text-align: right;\n",
       "    }\n",
       "</style>\n",
       "<table border=\"1\" class=\"dataframe\">\n",
       "  <thead>\n",
       "    <tr style=\"text-align: right;\">\n",
       "      <th></th>\n",
       "      <th>Accident_Index</th>\n",
       "      <th>1st_Road_Class</th>\n",
       "      <th>2nd_Road_Class</th>\n",
       "      <th>Accident_Severity</th>\n",
       "      <th>Date</th>\n",
       "      <th>Day_of_Week</th>\n",
       "      <th>Junction_Control</th>\n",
       "      <th>Junction_Detail</th>\n",
       "      <th>Light_Conditions</th>\n",
       "      <th>Pedestrian_Crossing-Human_Control</th>\n",
       "      <th>...</th>\n",
       "      <th>Propulsion_Code</th>\n",
       "      <th>Sex_of_Driver</th>\n",
       "      <th>Towing_and_Articulation</th>\n",
       "      <th>Vehicle_Leaving_Carriageway</th>\n",
       "      <th>Vehicle_Location.Restricted_Lane</th>\n",
       "      <th>Vehicle_Manoeuvre</th>\n",
       "      <th>Vehicle_Reference</th>\n",
       "      <th>Vehicle_Type</th>\n",
       "      <th>Was_Vehicle_Left_Hand_Drive</th>\n",
       "      <th>Datetime</th>\n",
       "    </tr>\n",
       "  </thead>\n",
       "  <tbody>\n",
       "    <tr>\n",
       "      <th>507</th>\n",
       "      <td>200501CP00085</td>\n",
       "      <td>A</td>\n",
       "      <td>C</td>\n",
       "      <td>Fatal</td>\n",
       "      <td>2005-05-18</td>\n",
       "      <td>Wednesday</td>\n",
       "      <td>Give way or uncontrolled</td>\n",
       "      <td>T or staggered junction</td>\n",
       "      <td>Daylight</td>\n",
       "      <td>0.0</td>\n",
       "      <td>...</td>\n",
       "      <td>Petrol</td>\n",
       "      <td>Male</td>\n",
       "      <td>No tow/articulation</td>\n",
       "      <td>Did not leave carriageway</td>\n",
       "      <td>0.0</td>\n",
       "      <td>Going ahead other</td>\n",
       "      <td>1</td>\n",
       "      <td>Motorcycle over 500cc</td>\n",
       "      <td>No</td>\n",
       "      <td>2005-05-18 18:30:00</td>\n",
       "    </tr>\n",
       "    <tr>\n",
       "      <th>9153</th>\n",
       "      <td>200501RY10515</td>\n",
       "      <td>C</td>\n",
       "      <td>A</td>\n",
       "      <td>Fatal</td>\n",
       "      <td>2005-11-09</td>\n",
       "      <td>Wednesday</td>\n",
       "      <td>Auto traffic signal</td>\n",
       "      <td>T or staggered junction</td>\n",
       "      <td>Daylight</td>\n",
       "      <td>0.0</td>\n",
       "      <td>...</td>\n",
       "      <td>Heavy oil</td>\n",
       "      <td>Male</td>\n",
       "      <td>No tow/articulation</td>\n",
       "      <td>Did not leave carriageway</td>\n",
       "      <td>0.0</td>\n",
       "      <td>Going ahead other</td>\n",
       "      <td>1</td>\n",
       "      <td>Bus or coach (17 or more pass seats)</td>\n",
       "      <td>No</td>\n",
       "      <td>2005-11-09 09:20:00</td>\n",
       "    </tr>\n",
       "  </tbody>\n",
       "</table>\n",
       "<p>2 rows × 34 columns</p>\n",
       "</div>"
      ],
      "text/plain": [
       "     Accident_Index 1st_Road_Class 2nd_Road_Class Accident_Severity  \\\n",
       "507   200501CP00085              A              C             Fatal   \n",
       "9153  200501RY10515              C              A             Fatal   \n",
       "\n",
       "            Date Day_of_Week          Junction_Control  \\\n",
       "507   2005-05-18   Wednesday  Give way or uncontrolled   \n",
       "9153  2005-11-09   Wednesday       Auto traffic signal   \n",
       "\n",
       "              Junction_Detail Light_Conditions  \\\n",
       "507   T or staggered junction         Daylight   \n",
       "9153  T or staggered junction         Daylight   \n",
       "\n",
       "      Pedestrian_Crossing-Human_Control  ...  Propulsion_Code Sex_of_Driver  \\\n",
       "507                                 0.0  ...           Petrol          Male   \n",
       "9153                                0.0  ...        Heavy oil          Male   \n",
       "\n",
       "     Towing_and_Articulation Vehicle_Leaving_Carriageway  \\\n",
       "507      No tow/articulation   Did not leave carriageway   \n",
       "9153     No tow/articulation   Did not leave carriageway   \n",
       "\n",
       "      Vehicle_Location.Restricted_Lane  Vehicle_Manoeuvre Vehicle_Reference  \\\n",
       "507                                0.0  Going ahead other                 1   \n",
       "9153                               0.0  Going ahead other                 1   \n",
       "\n",
       "                              Vehicle_Type  Was_Vehicle_Left_Hand_Drive  \\\n",
       "507                  Motorcycle over 500cc                           No   \n",
       "9153  Bus or coach (17 or more pass seats)                           No   \n",
       "\n",
       "                Datetime  \n",
       "507  2005-05-18 18:30:00  \n",
       "9153 2005-11-09 09:20:00  \n",
       "\n",
       "[2 rows x 34 columns]"
      ]
     },
     "execution_count": 57,
     "metadata": {},
     "output_type": "execute_result"
    }
   ],
   "source": [
    "fatalsubset = df[df.Accident_Severity=='Fatal']\n",
    "fatalsubset.head(2)"
   ]
  },
  {
   "cell_type": "code",
   "execution_count": 79,
   "metadata": {},
   "outputs": [
    {
     "data": {
      "text/plain": [
       "Text(0, 0.5, 'Total Count')"
      ]
     },
     "execution_count": 79,
     "metadata": {},
     "output_type": "execute_result"
    },
    {
     "data": {
      "image/png": "[encoded data removed]",
      "text/plain": [
       "<Figure size 2160x504 with 1 Axes>"
      ]
     },
     "metadata": {
      "needs_background": "light"
     },
     "output_type": "display_data"
    }
   ],
   "source": [
    "\n",
    "countplt, ax = plt.subplots(figsize = (30,7))\n",
    "ax = sns.countplot(x=fatalsubset.Datetime.dt.hour, data=df, color=\"r\")\n",
    "ax.set_title('Frequency of Fatal Accident By Hour in 24 hr period',fontsize = 30, fontweight='bold' )\n",
    "ax.set_xlabel('Hour Bin', fontsize = 15)\n",
    "ax.set_ylabel('Total Count', fontsize = 15)\n"
   ]
  },
  {
   "cell_type": "code",
   "execution_count": 91,
   "metadata": {},
   "outputs": [
    {
     "data": {
      "text/plain": [
       "Text(0.5, 0.98, 'Sex of Driver')"
      ]
     },
     "execution_count": 91,
     "metadata": {},
     "output_type": "execute_result"
    },
    {
     "data": {
      "image/png": "[encoded data removed]",
      "text/plain": [
       "<Figure size 360x360 with 1 Axes>"
      ]
     },
     "metadata": {
      "needs_background": "light"
     },
     "output_type": "display_data"
    }
   ],
   "source": [
    "g= sns.catplot(x='Sex_of_Driver', data=fatalsubset, kind='count')\n",
    "g.fig.suptitle('Sex of Driver')"
   ]
  },
  {
   "cell_type": "code",
   "execution_count": 84,
   "metadata": {},
   "outputs": [
    {
     "data": {
      "text/plain": [
       "Text(0.5, 0.98, 'Type of Vehicle')"
      ]
     },
     "execution_count": 84,
     "metadata": {},
     "output_type": "execute_result"
    },
    {
     "data": {
      "image/png": "[encoded data removed]",
      "text/plain": [
       "<Figure size 1296x432 with 1 Axes>"
      ]
     },
     "metadata": {
      "needs_background": "light"
     },
     "output_type": "display_data"
    }
   ],
   "source": [
    "g= sns.catplot(y='Vehicle_Type', data= fatalsubset, kind='count', height =6, aspect=3)\n",
    "g.fig.suptitle('Type of Vehicle')"
   ]
  },
  {
   "cell_type": "code",
   "execution_count": 87,
   "metadata": {},
   "outputs": [
    {
     "data": {
      "text/plain": [
       "Text(0.5, 0.98, 'Road Class of 1st Vehicle')"
      ]
     },
     "execution_count": 87,
     "metadata": {},
     "output_type": "execute_result"
    },
    {
     "data": {
      "image/png": "[encoded data removed]",
      "text/plain": [
       "<Figure size 432x216 with 1 Axes>"
      ]
     },
     "metadata": {
      "needs_background": "light"
     },
     "output_type": "display_data"
    }
   ],
   "source": [
    "g= sns.catplot(y='1st_Road_Class', data=fatalsubset, kind='count', height =3, aspect =2)\n",
    "g.fig.suptitle('Road Class of 1st Vehicle')"
   ]
  },
  {
   "cell_type": "code",
   "execution_count": 77,
   "metadata": {},
   "outputs": [
    {
     "data": {
      "text/plain": [
       "<seaborn.axisgrid.FacetGrid at 0x23ecd7938e0>"
      ]
     },
     "execution_count": 77,
     "metadata": {},
     "output_type": "execute_result"
    },
    {
     "data": {
      "image/png": "[encoded data removed]",
      "text/plain": [
       "<Figure size 360x360 with 1 Axes>"
      ]
     },
     "metadata": {
      "needs_background": "light"
     },
     "output_type": "display_data"
    }
   ],
   "source": [
    "sns.catplot(y='2nd_Road_Class', data=fatalsubset, kind='count')"
   ]
  },
  {
   "cell_type": "code",
   "execution_count": null,
   "metadata": {},
   "outputs": [],
   "source": []
  }
 ],
 "metadata": {
  "kernelspec": {
   "display_name": "Python 3",
   "language": "python",
   "name": "python3"
  },
  "language_info": {
   "codemirror_mode": {
    "name": "ipython",
    "version": 3
   },
   "file_extension": ".py",
   "mimetype": "text/x-python",
   "name": "python",
   "nbconvert_exporter": "python",
   "pygments_lexer": "ipython3",
   "version": "3.8.5"
  }
 },
 "nbformat": 4,
 "nbformat_minor": 4
}
