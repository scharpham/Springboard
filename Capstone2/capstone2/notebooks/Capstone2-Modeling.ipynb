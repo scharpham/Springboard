{
 "cells": [
  {
   "cell_type": "markdown",
   "metadata": {},
   "source": [
    "# Modeling"
   ]
  },
  {
   "cell_type": "code",
   "execution_count": 161,
   "metadata": {},
   "outputs": [],
   "source": [
    "import os\n",
    "import time\n",
    "import pandas as pd\n",
    "import matplotlib.pyplot as plt\n",
    "import numpy as np\n",
    "import warnings\n",
    "import seaborn as sns\n",
    "from sklearn.model_selection import train_test_split\n",
    "from sklearn.preprocessing import StandardScaler\n",
    "from sklearn.metrics import classification_report, confusion_matrix, roc_curve, plot_confusion_matrix\n",
    "from IPython.core.display import display, HTML\n",
    "from sklearn.multiclass import OneVsRestClassifier #import classifier to for Logistic Multiclass problem\n",
    "from sklearn.linear_model import LogisticRegression #import classifier\n",
    "from sklearn.model_selection import RandomizedSearchCV #import Randomized search CV\n",
    "from sklearn.ensemble import RandomForestClassifier\n",
    "\n",
    "import pickle # to export/save models\n",
    "\n",
    "\n",
    "warnings.simplefilter(action='ignore', category=FutureWarning)\n",
    "warnings.simplefilter(action='ignore', category=UserWarning)\n",
    "warnings.filterwarnings('ignore')"
   ]
  },
  {
   "cell_type": "code",
   "execution_count": 2,
   "metadata": {},
   "outputs": [],
   "source": [
    "X =pd.read_csv('../data/interim/explantorydf.csv', index_col=0) #read in features and target(s)\n",
    "y = pd.read_csv('../data/interim/targetdf.csv', index_col=0)"
   ]
  },
  {
   "cell_type": "code",
   "execution_count": 171,
   "metadata": {},
   "outputs": [
    {
     "data": {
      "text/html": [
       "<div>\n",
       "<style scoped>\n",
       "    .dataframe tbody tr th:only-of-type {\n",
       "        vertical-align: middle;\n",
       "    }\n",
       "\n",
       "    .dataframe tbody tr th {\n",
       "        vertical-align: top;\n",
       "    }\n",
       "\n",
       "    .dataframe thead th {\n",
       "        text-align: right;\n",
       "    }\n",
       "</style>\n",
       "<table border=\"1\" class=\"dataframe\">\n",
       "  <thead>\n",
       "    <tr style=\"text-align: right;\">\n",
       "      <th></th>\n",
       "    </tr>\n",
       "  </thead>\n",
       "  <tbody>\n",
       "    <tr>\n",
       "      <th>Pedestrian_Crossing-Human_Control</th>\n",
       "    </tr>\n",
       "    <tr>\n",
       "      <th>Pedestrian_Crossing-Physical_Facilities</th>\n",
       "    </tr>\n",
       "    <tr>\n",
       "      <th>Speed_limit</th>\n",
       "    </tr>\n",
       "    <tr>\n",
       "      <th>Age_of_Vehicle</th>\n",
       "    </tr>\n",
       "    <tr>\n",
       "      <th>Engine_Capacity_.CC.</th>\n",
       "    </tr>\n",
       "    <tr>\n",
       "      <th>...</th>\n",
       "    </tr>\n",
       "    <tr>\n",
       "      <th>Month_of_Accident_8</th>\n",
       "    </tr>\n",
       "    <tr>\n",
       "      <th>Month_of_Accident_9</th>\n",
       "    </tr>\n",
       "    <tr>\n",
       "      <th>Month_of_Accident_10</th>\n",
       "    </tr>\n",
       "    <tr>\n",
       "      <th>Month_of_Accident_11</th>\n",
       "    </tr>\n",
       "    <tr>\n",
       "      <th>Month_of_Accident_12</th>\n",
       "    </tr>\n",
       "  </tbody>\n",
       "</table>\n",
       "<p>214 rows × 0 columns</p>\n",
       "</div>"
      ],
      "text/plain": [
       "Empty DataFrame\n",
       "Columns: []\n",
       "Index: [Pedestrian_Crossing-Human_Control, Pedestrian_Crossing-Physical_Facilities, Speed_limit, Age_of_Vehicle, Engine_Capacity_.CC., Vehicle_Reference, 1st_Road_Class_A, 1st_Road_Class_A(M), 1st_Road_Class_B, 1st_Road_Class_C, 1st_Road_Class_Motorway, 1st_Road_Class_Unclassified, Day_of_Week_Friday, Day_of_Week_Monday, Day_of_Week_Saturday, Day_of_Week_Sunday, Day_of_Week_Thursday, Day_of_Week_Tuesday, Day_of_Week_Wednesday, Junction_Control_Authorised person, Junction_Control_Auto traffic signal, Junction_Control_Data missing or out of range, Junction_Control_Give way or uncontrolled, Junction_Control_Not at junction or within 20 metres, Junction_Control_Stop sign, Junction_Detail_Crossroads, Junction_Detail_Data missing or out of range, Junction_Detail_Mini-roundabout, Junction_Detail_More than 4 arms (not roundabout), Junction_Detail_Not at junction or within 20 metres, Junction_Detail_Other junction, Junction_Detail_Private drive or entrance, Junction_Detail_Roundabout, Junction_Detail_Slip road, Junction_Detail_T or staggered junction, Light_Conditions_Darkness - lighting unknown, Light_Conditions_Darkness - lights lit, Light_Conditions_Darkness - lights unlit, Light_Conditions_Darkness - no lighting, Light_Conditions_Data missing or out of range, Light_Conditions_Daylight, Road_Surface_Conditions_Data missing or out of range, Road_Surface_Conditions_Dry, Road_Surface_Conditions_Flood over 3cm. deep, Road_Surface_Conditions_Frost or ice, Road_Surface_Conditions_Snow, Road_Surface_Conditions_Wet or damp, Road_Type_Dual carriageway, Road_Type_One way street, Road_Type_Roundabout, Road_Type_Single carriageway, Road_Type_Slip road, Road_Type_Unknown, Special_Conditions_at_Site_Auto signal part defective, Special_Conditions_at_Site_Auto traffic signal - out, Special_Conditions_at_Site_Data missing or out of range, Special_Conditions_at_Site_Mud, Special_Conditions_at_Site_None, Special_Conditions_at_Site_Oil or diesel, Special_Conditions_at_Site_Road sign or marking defective or obscured, Special_Conditions_at_Site_Road surface defective, Special_Conditions_at_Site_Roadworks, Weather_Conditions_Data missing or out of range, Weather_Conditions_Fine + high winds, Weather_Conditions_Fine no high winds, Weather_Conditions_Fog or mist, Weather_Conditions_Other, Weather_Conditions_Raining + high winds, Weather_Conditions_Raining no high winds, Weather_Conditions_Snowing + high winds, Weather_Conditions_Snowing no high winds, Weather_Conditions_Unknown, Age_Band_of_Driver_0 - 5, Age_Band_of_Driver_11 - 15, Age_Band_of_Driver_16 - 20, Age_Band_of_Driver_21 - 25, Age_Band_of_Driver_26 - 35, Age_Band_of_Driver_36 - 45, Age_Band_of_Driver_46 - 55, Age_Band_of_Driver_56 - 65, Age_Band_of_Driver_6 - 10, Age_Band_of_Driver_66 - 75, Age_Band_of_Driver_Data missing or out of range, Age_Band_of_Driver_Over 75, Journey_Purpose_of_Driver_Commuting to/from work, Journey_Purpose_of_Driver_Data missing or out of range, Journey_Purpose_of_Driver_Journey as part of work, Journey_Purpose_of_Driver_Not known, Journey_Purpose_of_Driver_Other, Journey_Purpose_of_Driver_Other/Not known (2005-10), Journey_Purpose_of_Driver_Pupil riding to/from school, Journey_Purpose_of_Driver_Taking pupil to/from school, Junction_Location_Approaching junction or waiting/parked at junction approach, Junction_Location_Cleared junction or waiting/parked at junction exit, Junction_Location_Data missing or out of range, Junction_Location_Entering from slip road, Junction_Location_Entering main road, Junction_Location_Entering roundabout, Junction_Location_Leaving main road, Junction_Location_Leaving roundabout, ...]\n",
       "\n",
       "[214 rows x 0 columns]"
      ]
     },
     "execution_count": 171,
     "metadata": {},
     "output_type": "execute_result"
    }
   ],
   "source": [
    "#examples of Variables in Feature DF\n",
    "X.head(0).T"
   ]
  },
  {
   "cell_type": "code",
   "execution_count": 3,
   "metadata": {},
   "outputs": [],
   "source": [
    "y_fatal= y['Fatal'] # just the fatal class ( binary 0/1)"
   ]
  },
  {
   "cell_type": "code",
   "execution_count": 4,
   "metadata": {},
   "outputs": [],
   "source": [
    "#split X and Y Fatal\n",
    "X_train, X_test, y_train, y_test = train_test_split(X, y_fatal, test_size=0.30, random_state=42)\n"
   ]
  },
  {
   "cell_type": "code",
   "execution_count": 5,
   "metadata": {},
   "outputs": [
    {
     "data": {
      "text/plain": [
       "(0    608524\n",
       " 1      8240\n",
       " Name: Fatal, dtype: int64,\n",
       " 0    1420075\n",
       " 1      19038\n",
       " Name: Fatal, dtype: int64)"
      ]
     },
     "execution_count": 5,
     "metadata": {},
     "output_type": "execute_result"
    }
   ],
   "source": [
    "#checking sizes/shapes of splits\n",
    "y_test.value_counts(), y_train.value_counts()\n"
   ]
  },
  {
   "cell_type": "markdown",
   "metadata": {},
   "source": [
    "# First - Logistic - Just on the Fatal Category"
   ]
  },
  {
   "cell_type": "markdown",
   "metadata": {},
   "source": [
    "At the start of modeling I just wanted to investigate the \"Fatal\" category, being able to predict which accidents, will result in a fatality.\n",
    "\n",
    "Above I have brought in my imports, and create a binary target response variable representing fatalities, and split the data in the train and test sets."
   ]
  },
  {
   "cell_type": "markdown",
   "metadata": {},
   "source": [
    "Instantiate logistic model with starting characteristics and using RandomSearchCV over parameter grid"
   ]
  },
  {
   "cell_type": "code",
   "execution_count": 6,
   "metadata": {},
   "outputs": [],
   "source": [
    "logistic = LogisticRegression(solver='saga', \n",
    "                              tol=1e-2, \n",
    "                              max_iter=200,\n",
    "                              random_state=0,\n",
    "                              n_jobs=1,\n",
    "                              class_weight='balanced')\n",
    "distributions = dict(C=np.arange(0,11), penalty=['l2', 'l1', 'elasticnet'])\n",
    "logclf = RandomizedSearchCV(logistic, distributions, random_state=0)"
   ]
  },
  {
   "cell_type": "markdown",
   "metadata": {},
   "source": [
    "Fit model, time, this is commented out becasue the model has already been fit, and saved to a directory.\n",
    "\n",
    "To refit the model every time the kernal is started would make this notebook take very long to run/load. "
   ]
  },
  {
   "cell_type": "code",
   "execution_count": 7,
   "metadata": {},
   "outputs": [],
   "source": [
    "#fit Model\n",
    "\n",
    "#start = time.time()\n",
    "#search = logclf.fit(X_train, y_train)\n",
    "#time.time()-start"
   ]
  },
  {
   "cell_type": "code",
   "execution_count": 8,
   "metadata": {},
   "outputs": [],
   "source": [
    "#Save model to disk\n",
    "\n",
    "#with open('../models/logistic.pkl', 'wb') as file: \n",
    "#    pickle.dump(search, file)\n",
    "    \n"
   ]
  },
  {
   "cell_type": "code",
   "execution_count": 9,
   "metadata": {},
   "outputs": [],
   "source": [
    "#load model from disk\n",
    "search = pickle.load(open('../models/logistic.pkl', 'rb'))"
   ]
  },
  {
   "cell_type": "code",
   "execution_count": 10,
   "metadata": {},
   "outputs": [],
   "source": [
    "y_pred = search.predict(X_test)"
   ]
  },
  {
   "cell_type": "code",
   "execution_count": 11,
   "metadata": {},
   "outputs": [
    {
     "data": {
      "text/plain": [
       "<sklearn.metrics._plot.confusion_matrix.ConfusionMatrixDisplay at 0x223db013a00>"
      ]
     },
     "execution_count": 11,
     "metadata": {},
     "output_type": "execute_result"
    },
    {
     "data": {
      "image/png": "[encoded data removed]",
      "text/plain": [
       "<Figure size 432x288 with 2 Axes>"
      ]
     },
     "metadata": {
      "needs_background": "light"
     },
     "output_type": "display_data"
    }
   ],
   "source": [
    "plot_confusion_matrix(search, X_test, y_test, labels = [0, 1])"
   ]
  },
  {
   "cell_type": "code",
   "execution_count": 12,
   "metadata": {},
   "outputs": [
    {
     "data": {
      "text/plain": [
       "<AxesSubplot:>"
      ]
     },
     "execution_count": 12,
     "metadata": {},
     "output_type": "execute_result"
    },
    {
     "data": {
      "image/png": "[encoded data removed]",
      "text/plain": [
       "<Figure size 432x288 with 2 Axes>"
      ]
     },
     "metadata": {
      "needs_background": "light"
     },
     "output_type": "display_data"
    }
   ],
   "source": [
    "cf_matrix = confusion_matrix(y_test, y_pred)\n",
    "sns.heatmap(cf_matrix/np.sum(cf_matrix), annot=True, fmt='.2%', cmap='Blues')"
   ]
  },
  {
   "cell_type": "code",
   "execution_count": 13,
   "metadata": {},
   "outputs": [
    {
     "data": {
      "text/html": [
       "<div>\n",
       "<style scoped>\n",
       "    .dataframe tbody tr th:only-of-type {\n",
       "        vertical-align: middle;\n",
       "    }\n",
       "\n",
       "    .dataframe tbody tr th {\n",
       "        vertical-align: top;\n",
       "    }\n",
       "\n",
       "    .dataframe thead th {\n",
       "        text-align: right;\n",
       "    }\n",
       "</style>\n",
       "<table border=\"1\" class=\"dataframe\">\n",
       "  <thead>\n",
       "    <tr style=\"text-align: right;\">\n",
       "      <th></th>\n",
       "      <th>precision</th>\n",
       "      <th>recall</th>\n",
       "      <th>f1-score</th>\n",
       "      <th>support</th>\n",
       "    </tr>\n",
       "  </thead>\n",
       "  <tbody>\n",
       "    <tr>\n",
       "      <th>Not Fatal</th>\n",
       "      <td>0.995444</td>\n",
       "      <td>0.749298</td>\n",
       "      <td>0.855008</td>\n",
       "      <td>608524.000000</td>\n",
       "    </tr>\n",
       "    <tr>\n",
       "      <th>Fatal</th>\n",
       "      <td>0.038769</td>\n",
       "      <td>0.746723</td>\n",
       "      <td>0.073710</td>\n",
       "      <td>8240.000000</td>\n",
       "    </tr>\n",
       "    <tr>\n",
       "      <th>accuracy</th>\n",
       "      <td>0.749264</td>\n",
       "      <td>0.749264</td>\n",
       "      <td>0.749264</td>\n",
       "      <td>0.749264</td>\n",
       "    </tr>\n",
       "    <tr>\n",
       "      <th>macro avg</th>\n",
       "      <td>0.517106</td>\n",
       "      <td>0.748011</td>\n",
       "      <td>0.464359</td>\n",
       "      <td>616764.000000</td>\n",
       "    </tr>\n",
       "    <tr>\n",
       "      <th>weighted avg</th>\n",
       "      <td>0.982663</td>\n",
       "      <td>0.749264</td>\n",
       "      <td>0.844570</td>\n",
       "      <td>616764.000000</td>\n",
       "    </tr>\n",
       "  </tbody>\n",
       "</table>\n",
       "</div>"
      ],
      "text/plain": [
       "              precision    recall  f1-score        support\n",
       "Not Fatal      0.995444  0.749298  0.855008  608524.000000\n",
       "Fatal          0.038769  0.746723  0.073710    8240.000000\n",
       "accuracy       0.749264  0.749264  0.749264       0.749264\n",
       "macro avg      0.517106  0.748011  0.464359  616764.000000\n",
       "weighted avg   0.982663  0.749264  0.844570  616764.000000"
      ]
     },
     "execution_count": 13,
     "metadata": {},
     "output_type": "execute_result"
    }
   ],
   "source": [
    "crlogbinary = pd.DataFrame(classification_report(y_test, y_pred, target_names =['Not Fatal', 'Fatal'], output_dict=True)).transpose()\n",
    "crlogbinary\n"
   ]
  },
  {
   "cell_type": "code",
   "execution_count": 14,
   "metadata": {},
   "outputs": [
    {
     "data": {
      "text/plain": [
       "(616764, 1)"
      ]
     },
     "execution_count": 14,
     "metadata": {},
     "output_type": "execute_result"
    }
   ],
   "source": [
    "y_pred_proba = search.predict_proba(X_test)[:,1]\n",
    "y_pred_proba = y_pred_proba.reshape(-1, 1)\n",
    "y_pred_proba.shape"
   ]
  },
  {
   "cell_type": "code",
   "execution_count": 15,
   "metadata": {},
   "outputs": [],
   "source": [
    "fpr, tpr, thresholds = roc_curve(y_test, y_pred_proba)"
   ]
  },
  {
   "cell_type": "code",
   "execution_count": 16,
   "metadata": {},
   "outputs": [
    {
     "data": {
      "text/plain": [
       "Text(0.5, 1.0, 'ROC curve for Logistic Regression')"
      ]
     },
     "execution_count": 16,
     "metadata": {},
     "output_type": "execute_result"
    },
    {
     "data": {
      "image/png": "[encoded data removed]",
      "text/plain": [
       "<Figure size 432x288 with 1 Axes>"
      ]
     },
     "metadata": {
      "needs_background": "light"
     },
     "output_type": "display_data"
    }
   ],
   "source": [
    "#plot ROC Curve\n",
    "\n",
    "\n",
    "\n",
    "\n",
    "\n",
    "plt.plot([0,1],[0,1], \"k--\")\n",
    "plt.plot(fpr, tpr)\n",
    "plt.xlabel('False Positive Rate')\n",
    "plt.ylabel('True Positive Rate')\n",
    "plt.title('ROC curve for Logistic Regression')"
   ]
  },
  {
   "cell_type": "markdown",
   "metadata": {},
   "source": [
    "I dont find this model/classifier's performance to be great, but it does \"catch\" a the majority of the 'Fatal' category. \n",
    "\n",
    "There are 8240 fatal responses in the test set, and this classifier predicts ~75 % of those correctly. It does this however, at the cost of predicting many more fatalitie than actualy exist in the test set. It predicts roughly 158,000 fatalities out of a test set of 616764 observations.\n"
   ]
  },
  {
   "cell_type": "markdown",
   "metadata": {},
   "source": [
    "# Random Forest Modelling - Fatal vs. Non-Fatal"
   ]
  },
  {
   "cell_type": "markdown",
   "metadata": {},
   "source": [
    "This model investigate the random forest classifeir on a binary response, Fatal or Non-Fatal, using RandomSearchCV, as the times to use GridSearchCV would be very high."
   ]
  },
  {
   "cell_type": "code",
   "execution_count": 17,
   "metadata": {},
   "outputs": [],
   "source": [
    "#RandomForestClassifier?"
   ]
  },
  {
   "cell_type": "code",
   "execution_count": 18,
   "metadata": {},
   "outputs": [],
   "source": [
    "# Random Forest class with Class weights\n",
    "\n",
    "clf = RandomForestClassifier()\n",
    "\n",
    "random_grid ={'max_depth': [2,5,7],\n",
    "             'min_samples_leaf': [1, 3, 5],\n",
    "             'min_samples_split': [2, 3, 4, 5],\n",
    "             'n_estimators': [100],\n",
    "             'class_weight' : [\"balanced\"]\n",
    "             }\n",
    "\n",
    "rfclf = RandomizedSearchCV(clf, param_distributions = random_grid, n_jobs=1)"
   ]
  },
  {
   "cell_type": "markdown",
   "metadata": {},
   "source": [
    "Train model, save to disk, all commented out because this woudl take several hours if fit every time the notebook was run. "
   ]
  },
  {
   "cell_type": "code",
   "execution_count": 19,
   "metadata": {},
   "outputs": [],
   "source": [
    "#Train Random Forest\n",
    "\n",
    "#start = time.time()\n",
    "#rfclf.fit(X_train, y_train)\n",
    "#message(\"Train_time=\"+str(round(((time.time()-start) /3600),3)) + ' hours')"
   ]
  },
  {
   "cell_type": "code",
   "execution_count": 20,
   "metadata": {},
   "outputs": [],
   "source": [
    "#save Model to disk\n",
    "\n",
    "#with open('../models/rfmodel.pkl', 'wb') as file:\n",
    "#    pickle.dump(rfclf, file)"
   ]
  },
  {
   "cell_type": "code",
   "execution_count": 21,
   "metadata": {},
   "outputs": [],
   "source": [
    "rfclf = pickle.load(open('../models/rfmodel.pkl', 'rb'))\n",
    "y_pred = rfclf.predict(X_test)"
   ]
  },
  {
   "cell_type": "code",
   "execution_count": null,
   "metadata": {},
   "outputs": [],
   "source": []
  },
  {
   "cell_type": "code",
   "execution_count": 22,
   "metadata": {},
   "outputs": [
    {
     "data": {
      "text/plain": [
       "<sklearn.metrics._plot.confusion_matrix.ConfusionMatrixDisplay at 0x223db00c460>"
      ]
     },
     "execution_count": 22,
     "metadata": {},
     "output_type": "execute_result"
    },
    {
     "data": {
      "image/png": "[encoded data removed]",
      "text/plain": [
       "<Figure size 432x288 with 2 Axes>"
      ]
     },
     "metadata": {
      "needs_background": "light"
     },
     "output_type": "display_data"
    }
   ],
   "source": [
    "plot_confusion_matrix(rfclf, X_test, y_test, labels = [0, 1])"
   ]
  },
  {
   "cell_type": "code",
   "execution_count": 23,
   "metadata": {},
   "outputs": [
    {
     "data": {
      "text/plain": [
       "<AxesSubplot:>"
      ]
     },
     "execution_count": 23,
     "metadata": {},
     "output_type": "execute_result"
    },
    {
     "data": {
      "image/png": "[encoded data removed]",
      "text/plain": [
       "<Figure size 432x288 with 2 Axes>"
      ]
     },
     "metadata": {
      "needs_background": "light"
     },
     "output_type": "display_data"
    }
   ],
   "source": [
    "cf_matrix = confusion_matrix(y_test, y_pred)\n",
    "sns.heatmap(cf_matrix/np.sum(cf_matrix), annot=True, fmt='.2%', cmap='Blues')"
   ]
  },
  {
   "cell_type": "code",
   "execution_count": 24,
   "metadata": {},
   "outputs": [
    {
     "name": "stdout",
     "output_type": "stream",
     "text": [
      "              precision    recall  f1-score   support\n",
      "\n",
      "   Not Fatal       0.99      0.73      0.84    608524\n",
      "       Fatal       0.03      0.71      0.07      8240\n",
      "\n",
      "    accuracy                           0.73    616764\n",
      "   macro avg       0.51      0.72      0.45    616764\n",
      "weighted avg       0.98      0.73      0.83    616764\n",
      "\n"
     ]
    }
   ],
   "source": [
    "crrfbinary = pd.DataFrame(classification_report(y_test, y_pred, target_names =['Not Fatal', 'Fatal'], output_dict=True)).transpose()\n",
    "crrfbinary\n",
    "\n",
    "\n",
    "print(classification_report(y_test, y_pred, target_names=['Not Fatal', 'Fatal']))"
   ]
  },
  {
   "cell_type": "code",
   "execution_count": 25,
   "metadata": {},
   "outputs": [
    {
     "data": {
      "text/plain": [
       "(616764, 1)"
      ]
     },
     "execution_count": 25,
     "metadata": {},
     "output_type": "execute_result"
    }
   ],
   "source": [
    "y_pred_proba = rfclf.predict_proba(X_test)[:,1]\n",
    "y_pred_proba = y_pred_proba.reshape(-1, 1)\n",
    "y_pred_proba.shape"
   ]
  },
  {
   "cell_type": "code",
   "execution_count": 26,
   "metadata": {},
   "outputs": [],
   "source": [
    "fpr, tpr, thresholds = roc_curve(y_test, y_pred_proba)"
   ]
  },
  {
   "cell_type": "code",
   "execution_count": 27,
   "metadata": {},
   "outputs": [
    {
     "data": {
      "text/plain": [
       "Text(0.5, 1.0, 'ROC curve for Random Forest Model')"
      ]
     },
     "execution_count": 27,
     "metadata": {},
     "output_type": "execute_result"
    },
    {
     "data": {
      "image/png": "[encoded data removed]",
      "text/plain": [
       "<Figure size 432x288 with 1 Axes>"
      ]
     },
     "metadata": {
      "needs_background": "light"
     },
     "output_type": "display_data"
    }
   ],
   "source": [
    "plt.plot([0,1],[0,1], \"k--\")\n",
    "plt.plot(fpr, tpr)\n",
    "plt.xlabel('False Positive Rate')\n",
    "plt.ylabel('True Positive Rate')\n",
    "plt.title('ROC curve for Random Forest Model')"
   ]
  },
  {
   "cell_type": "markdown",
   "metadata": {},
   "source": [
    "This model peformes slightly wors than the logistic model, and \n",
    "will not be selected"
   ]
  },
  {
   "cell_type": "markdown",
   "metadata": {},
   "source": [
    "# XGB on Binary response (Fatal vs not Fatal)"
   ]
  },
  {
   "cell_type": "markdown",
   "metadata": {},
   "source": [
    "Importing and using the XGB classifier"
   ]
  },
  {
   "cell_type": "code",
   "execution_count": 28,
   "metadata": {},
   "outputs": [],
   "source": [
    "from xgboost import XGBClassifier\n",
    "from sklearn.utils.class_weight import compute_sample_weight"
   ]
  },
  {
   "cell_type": "code",
   "execution_count": 29,
   "metadata": {},
   "outputs": [],
   "source": [
    "#XGBClassifier?"
   ]
  },
  {
   "cell_type": "code",
   "execution_count": 30,
   "metadata": {},
   "outputs": [
    {
     "data": {
      "text/plain": [
       "array([0.50670317, 0.50670317, 0.50670317, ..., 0.50670317, 0.50670317,\n",
       "       0.50670317])"
      ]
     },
     "execution_count": 30,
     "metadata": {},
     "output_type": "execute_result"
    }
   ],
   "source": [
    "compute_sample_weight(class_weight='balanced', y=y_train)"
   ]
  },
  {
   "cell_type": "code",
   "execution_count": 31,
   "metadata": {},
   "outputs": [],
   "source": [
    "xgbclf = XGBClassifier()\n",
    "param_grid = {'max_depth': [1, 5, 10],\n",
    "        'learning_rate': [0.001, 0.01, 0.1, 0.2, 0,3],\n",
    "        'min_child_weight': [0.5, 1.0, 3.0, 5.0, 7.0, 10.0],\n",
    "        'gamma': [0, 0.25, 0.5, 1.0],\n",
    "        'reg_lambda': [0.1, 1.0, 5.0, 10.0, 50.0, 100.0],\n",
    "        'n_estimators': [100],\n",
    "        'scale_pos_weight' : [(y_train==0).sum()/ (y_train==1).sum()]}"
   ]
  },
  {
   "cell_type": "markdown",
   "metadata": {},
   "source": [
    "Imbalanced Classes, Ratio of Non-Fatal/Fatal"
   ]
  },
  {
   "cell_type": "code",
   "execution_count": 32,
   "metadata": {},
   "outputs": [
    {
     "data": {
      "text/plain": [
       "74.59160626116189"
      ]
     },
     "execution_count": 32,
     "metadata": {},
     "output_type": "execute_result"
    }
   ],
   "source": [
    "#Manual computer Class Weight/Ratio\n",
    "(y_train==0).sum()/ (y_train==1).sum()"
   ]
  },
  {
   "cell_type": "code",
   "execution_count": 33,
   "metadata": {},
   "outputs": [],
   "source": [
    "rdmxgb = RandomizedSearchCV(xgbclf, param_distributions = param_grid, n_jobs=1)"
   ]
  },
  {
   "cell_type": "markdown",
   "metadata": {},
   "source": [
    "Fit and save/export model, this step would take several hours so it is commented out so it will nto run every time the model runs"
   ]
  },
  {
   "cell_type": "code",
   "execution_count": 34,
   "metadata": {},
   "outputs": [],
   "source": [
    "#Fit RandomSearch XGB Classifier\n",
    "\n",
    "\n",
    "#start = time.time()\n",
    "#rdmxgb.fit(X_train, y_train)\n",
    "#message('Train_time='+str(round(((time.time()-start) /3600),3)) + ' hours')"
   ]
  },
  {
   "cell_type": "code",
   "execution_count": 35,
   "metadata": {},
   "outputs": [],
   "source": [
    "#Save Classifer to disk\n",
    "\n",
    "#with open('../models/xgbmodel.pkl', 'wb') as file:\n",
    "#    pickle.dump(rdmxgb, file)"
   ]
  },
  {
   "cell_type": "code",
   "execution_count": 36,
   "metadata": {},
   "outputs": [],
   "source": [
    "rdmxgb = pickle.load(open('../models/xgbmodel.pkl', 'rb'))\n",
    "y_pred = rdmxgb.predict(X_test)"
   ]
  },
  {
   "cell_type": "code",
   "execution_count": null,
   "metadata": {},
   "outputs": [],
   "source": []
  },
  {
   "cell_type": "code",
   "execution_count": 37,
   "metadata": {},
   "outputs": [
    {
     "data": {
      "text/plain": [
       "<sklearn.metrics._plot.confusion_matrix.ConfusionMatrixDisplay at 0x223e13cd880>"
      ]
     },
     "execution_count": 37,
     "metadata": {},
     "output_type": "execute_result"
    },
    {
     "data": {
      "image/png": "[encoded data removed]",
      "text/plain": [
       "<Figure size 432x288 with 2 Axes>"
      ]
     },
     "metadata": {
      "needs_background": "light"
     },
     "output_type": "display_data"
    }
   ],
   "source": [
    "plot_confusion_matrix(rdmxgb, X_test, y_test, labels = [0, 1])\n"
   ]
  },
  {
   "cell_type": "code",
   "execution_count": 38,
   "metadata": {},
   "outputs": [
    {
     "data": {
      "text/plain": [
       "<AxesSubplot:>"
      ]
     },
     "execution_count": 38,
     "metadata": {},
     "output_type": "execute_result"
    },
    {
     "data": {
      "image/png": "[encoded data removed]",
      "text/plain": [
       "<Figure size 432x288 with 2 Axes>"
      ]
     },
     "metadata": {
      "needs_background": "light"
     },
     "output_type": "display_data"
    }
   ],
   "source": [
    "cf_matrix = confusion_matrix(y_test, y_pred)\n",
    "sns.heatmap(cf_matrix/np.sum(cf_matrix), annot=True, fmt='.2%', cmap='Blues')"
   ]
  },
  {
   "cell_type": "code",
   "execution_count": 39,
   "metadata": {},
   "outputs": [
    {
     "data": {
      "text/html": [
       "<div>\n",
       "<style scoped>\n",
       "    .dataframe tbody tr th:only-of-type {\n",
       "        vertical-align: middle;\n",
       "    }\n",
       "\n",
       "    .dataframe tbody tr th {\n",
       "        vertical-align: top;\n",
       "    }\n",
       "\n",
       "    .dataframe thead th {\n",
       "        text-align: right;\n",
       "    }\n",
       "</style>\n",
       "<table border=\"1\" class=\"dataframe\">\n",
       "  <thead>\n",
       "    <tr style=\"text-align: right;\">\n",
       "      <th></th>\n",
       "      <th>precision</th>\n",
       "      <th>recall</th>\n",
       "      <th>f1-score</th>\n",
       "      <th>support</th>\n",
       "    </tr>\n",
       "  </thead>\n",
       "  <tbody>\n",
       "    <tr>\n",
       "      <th>Not Fatal</th>\n",
       "      <td>0.995360</td>\n",
       "      <td>0.742426</td>\n",
       "      <td>0.850486</td>\n",
       "      <td>608524.000000</td>\n",
       "    </tr>\n",
       "    <tr>\n",
       "      <th>Fatal</th>\n",
       "      <td>0.037661</td>\n",
       "      <td>0.744417</td>\n",
       "      <td>0.071695</td>\n",
       "      <td>8240.000000</td>\n",
       "    </tr>\n",
       "    <tr>\n",
       "      <th>accuracy</th>\n",
       "      <td>0.742453</td>\n",
       "      <td>0.742453</td>\n",
       "      <td>0.742453</td>\n",
       "      <td>0.742453</td>\n",
       "    </tr>\n",
       "    <tr>\n",
       "      <th>macro avg</th>\n",
       "      <td>0.516511</td>\n",
       "      <td>0.743422</td>\n",
       "      <td>0.461090</td>\n",
       "      <td>616764.000000</td>\n",
       "    </tr>\n",
       "    <tr>\n",
       "      <th>weighted avg</th>\n",
       "      <td>0.982565</td>\n",
       "      <td>0.742453</td>\n",
       "      <td>0.840081</td>\n",
       "      <td>616764.000000</td>\n",
       "    </tr>\n",
       "  </tbody>\n",
       "</table>\n",
       "</div>"
      ],
      "text/plain": [
       "              precision    recall  f1-score        support\n",
       "Not Fatal      0.995360  0.742426  0.850486  608524.000000\n",
       "Fatal          0.037661  0.744417  0.071695    8240.000000\n",
       "accuracy       0.742453  0.742453  0.742453       0.742453\n",
       "macro avg      0.516511  0.743422  0.461090  616764.000000\n",
       "weighted avg   0.982565  0.742453  0.840081  616764.000000"
      ]
     },
     "execution_count": 39,
     "metadata": {},
     "output_type": "execute_result"
    }
   ],
   "source": [
    "crxgbbinary = pd.DataFrame(classification_report(y_test, y_pred, target_names =['Not Fatal', 'Fatal'], output_dict=True)).transpose()\n",
    "crxgbbinary\n",
    "#print(classification_report(y_test, y_pred, target_names=['Not Fatal', 'Fatal']))"
   ]
  },
  {
   "cell_type": "code",
   "execution_count": 40,
   "metadata": {},
   "outputs": [],
   "source": [
    "y_pred_proba = rdmxgb.predict_proba(X_test)[:,1]\n",
    "y_pred_proba = y_pred_proba.reshape(-1, 1)\n",
    "\n",
    "fpr, tpr, thresholds = roc_curve(y_test, y_pred_proba)"
   ]
  },
  {
   "cell_type": "code",
   "execution_count": 41,
   "metadata": {},
   "outputs": [
    {
     "data": {
      "text/plain": [
       "Text(0.5, 1.0, 'ROC curve XGBoost Binary Model')"
      ]
     },
     "execution_count": 41,
     "metadata": {},
     "output_type": "execute_result"
    },
    {
     "data": {
      "image/png": "[encoded data removed]",
      "text/plain": [
       "<Figure size 432x288 with 1 Axes>"
      ]
     },
     "metadata": {
      "needs_background": "light"
     },
     "output_type": "display_data"
    }
   ],
   "source": [
    "plt.plot([0,1],[0,1], \"k--\")\n",
    "plt.plot(fpr, tpr)\n",
    "plt.xlabel('False Positive Rate')\n",
    "plt.ylabel('True Positive Rate')\n",
    "plt.title('ROC curve XGBoost Binary Model')"
   ]
  },
  {
   "cell_type": "markdown",
   "metadata": {},
   "source": [
    "This model has a similar performance ot the Logistic model, although it classifies more as fatal that are not, and doesnt predict as many Fatal correctly, which is our goal, the Logistic Model is still superior."
   ]
  },
  {
   "cell_type": "markdown",
   "metadata": {},
   "source": [
    "# MultiClass  Modeling\n",
    "\n"
   ]
  },
  {
   "cell_type": "markdown",
   "metadata": {},
   "source": [
    "# Logistic with Dummy variables"
   ]
  },
  {
   "cell_type": "code",
   "execution_count": 42,
   "metadata": {},
   "outputs": [
    {
     "data": {
      "text/html": [
       "<div>\n",
       "<style scoped>\n",
       "    .dataframe tbody tr th:only-of-type {\n",
       "        vertical-align: middle;\n",
       "    }\n",
       "\n",
       "    .dataframe tbody tr th {\n",
       "        vertical-align: top;\n",
       "    }\n",
       "\n",
       "    .dataframe thead th {\n",
       "        text-align: right;\n",
       "    }\n",
       "</style>\n",
       "<table border=\"1\" class=\"dataframe\">\n",
       "  <thead>\n",
       "    <tr style=\"text-align: right;\">\n",
       "      <th></th>\n",
       "      <th>level_1</th>\n",
       "    </tr>\n",
       "    <tr>\n",
       "      <th>level_0</th>\n",
       "      <th></th>\n",
       "    </tr>\n",
       "  </thead>\n",
       "  <tbody>\n",
       "    <tr>\n",
       "      <th>1</th>\n",
       "      <td>Slight</td>\n",
       "    </tr>\n",
       "    <tr>\n",
       "      <th>2</th>\n",
       "      <td>Slight</td>\n",
       "    </tr>\n",
       "  </tbody>\n",
       "</table>\n",
       "</div>"
      ],
      "text/plain": [
       "        level_1\n",
       "level_0        \n",
       "1        Slight\n",
       "2        Slight"
      ]
     },
     "execution_count": 42,
     "metadata": {},
     "output_type": "execute_result"
    }
   ],
   "source": [
    "#Sklearn Logistic Regression Requires target be one dimensional\n",
    "\n",
    "onedimy = y[y==1].stack().reset_index().drop(0,1).set_index('level_0')\n",
    "\n",
    "onedimy.head(2)\n"
   ]
  },
  {
   "cell_type": "code",
   "execution_count": 43,
   "metadata": {},
   "outputs": [],
   "source": [
    "X_train, X_test, y_train, y_test = train_test_split(X,onedimy, test_size=0.30, random_state=42)\n",
    "#y_train.head()"
   ]
  },
  {
   "cell_type": "code",
   "execution_count": 44,
   "metadata": {},
   "outputs": [],
   "source": [
    "#Creating a RandomSearchCV for Logistic Regression, Multiclass\n",
    "\n",
    "logmulti = LogisticRegression(solver='saga', \n",
    "                              tol=1e-2, \n",
    "                              max_iter=200,\n",
    "                              random_state=1,\n",
    "                              n_jobs=1,\n",
    "                              class_weight='balanced',\n",
    "                              multi_class='auto')\n",
    "distributions = dict(C=np.arange(0,11), penalty=['l2','elasticnet'])\n",
    "rdmlogmulti = RandomizedSearchCV(logmulti, distributions, random_state=0)"
   ]
  },
  {
   "cell_type": "code",
   "execution_count": 45,
   "metadata": {},
   "outputs": [],
   "source": [
    "#Fit Model and Save to disk\n",
    "\n",
    "\n",
    "#rdmlogmulti.fit(X_train, y_train)\n",
    "#with open('../models/rdmlogmulti.pkl', 'wb') as file:\n",
    "#     pickle.dump(rdmlogmulti, file)\n"
   ]
  },
  {
   "cell_type": "code",
   "execution_count": 46,
   "metadata": {},
   "outputs": [],
   "source": [
    "#save model to disk\n",
    "\n",
    "#with open('../models/rdmlogmulti.pkl', 'wb') as file:\n",
    "#    pickle.dump(rdmlogmulti, file)"
   ]
  },
  {
   "cell_type": "code",
   "execution_count": 47,
   "metadata": {},
   "outputs": [],
   "source": [
    "rdmlogmulti = pickle.load(open('../models/rdmlogmulti.pkl', 'rb'))\n",
    "y_pred = rdmlogmulti.predict(X_test)"
   ]
  },
  {
   "cell_type": "code",
   "execution_count": 48,
   "metadata": {},
   "outputs": [
    {
     "data": {
      "text/plain": [
       "<sklearn.metrics._plot.confusion_matrix.ConfusionMatrixDisplay at 0x223e17d4d30>"
      ]
     },
     "execution_count": 48,
     "metadata": {},
     "output_type": "execute_result"
    },
    {
     "data": {
      "image/png": "[encoded data removed]",
      "text/plain": [
       "<Figure size 432x288 with 2 Axes>"
      ]
     },
     "metadata": {
      "needs_background": "light"
     },
     "output_type": "display_data"
    }
   ],
   "source": [
    "plot_confusion_matrix(rdmlogmulti, X_test, y_test)"
   ]
  },
  {
   "cell_type": "code",
   "execution_count": 49,
   "metadata": {},
   "outputs": [
    {
     "data": {
      "text/plain": [
       "<AxesSubplot:>"
      ]
     },
     "execution_count": 49,
     "metadata": {},
     "output_type": "execute_result"
    },
    {
     "data": {
      "image/png": "[encoded data removed]",
      "text/plain": [
       "<Figure size 432x288 with 2 Axes>"
      ]
     },
     "metadata": {
      "needs_background": "light"
     },
     "output_type": "display_data"
    }
   ],
   "source": [
    "cf_matrix = confusion_matrix(y_test, y_pred)\n",
    "sns.heatmap(cf_matrix/np.sum(cf_matrix), annot=True, fmt='.2%', cmap='Blues')"
   ]
  },
  {
   "cell_type": "code",
   "execution_count": 50,
   "metadata": {},
   "outputs": [
    {
     "data": {
      "text/html": [
       "<div>\n",
       "<style scoped>\n",
       "    .dataframe tbody tr th:only-of-type {\n",
       "        vertical-align: middle;\n",
       "    }\n",
       "\n",
       "    .dataframe tbody tr th {\n",
       "        vertical-align: top;\n",
       "    }\n",
       "\n",
       "    .dataframe thead th {\n",
       "        text-align: right;\n",
       "    }\n",
       "</style>\n",
       "<table border=\"1\" class=\"dataframe\">\n",
       "  <thead>\n",
       "    <tr style=\"text-align: right;\">\n",
       "      <th></th>\n",
       "      <th>precision</th>\n",
       "      <th>recall</th>\n",
       "      <th>f1-score</th>\n",
       "      <th>support</th>\n",
       "    </tr>\n",
       "  </thead>\n",
       "  <tbody>\n",
       "    <tr>\n",
       "      <th>Fatal</th>\n",
       "      <td>0.043597</td>\n",
       "      <td>0.673422</td>\n",
       "      <td>0.081892</td>\n",
       "      <td>8240.000000</td>\n",
       "    </tr>\n",
       "    <tr>\n",
       "      <th>Serious</th>\n",
       "      <td>0.182803</td>\n",
       "      <td>0.304584</td>\n",
       "      <td>0.228479</td>\n",
       "      <td>79758.000000</td>\n",
       "    </tr>\n",
       "    <tr>\n",
       "      <th>Slight</th>\n",
       "      <td>0.912771</td>\n",
       "      <td>0.615560</td>\n",
       "      <td>0.735266</td>\n",
       "      <td>528766.000000</td>\n",
       "    </tr>\n",
       "    <tr>\n",
       "      <th>accuracy</th>\n",
       "      <td>0.576118</td>\n",
       "      <td>0.576118</td>\n",
       "      <td>0.576118</td>\n",
       "      <td>0.576118</td>\n",
       "    </tr>\n",
       "    <tr>\n",
       "      <th>macro avg</th>\n",
       "      <td>0.379724</td>\n",
       "      <td>0.531189</td>\n",
       "      <td>0.348546</td>\n",
       "      <td>616764.000000</td>\n",
       "    </tr>\n",
       "    <tr>\n",
       "      <th>weighted avg</th>\n",
       "      <td>0.806762</td>\n",
       "      <td>0.576118</td>\n",
       "      <td>0.661001</td>\n",
       "      <td>616764.000000</td>\n",
       "    </tr>\n",
       "  </tbody>\n",
       "</table>\n",
       "</div>"
      ],
      "text/plain": [
       "              precision    recall  f1-score        support\n",
       "Fatal          0.043597  0.673422  0.081892    8240.000000\n",
       "Serious        0.182803  0.304584  0.228479   79758.000000\n",
       "Slight         0.912771  0.615560  0.735266  528766.000000\n",
       "accuracy       0.576118  0.576118  0.576118       0.576118\n",
       "macro avg      0.379724  0.531189  0.348546  616764.000000\n",
       "weighted avg   0.806762  0.576118  0.661001  616764.000000"
      ]
     },
     "execution_count": 50,
     "metadata": {},
     "output_type": "execute_result"
    }
   ],
   "source": [
    "crlogmulti1 = pd.DataFrame(classification_report(y_test, y_pred, output_dict=True)).transpose()\n",
    "crlogmulti1\n",
    "\n",
    "#print(classification_report(y_test, y_pred))"
   ]
  },
  {
   "cell_type": "markdown",
   "metadata": {},
   "source": [
    "# One Vs. Rest Classifier with Logistic Regression - Multiclass"
   ]
  },
  {
   "cell_type": "code",
   "execution_count": 51,
   "metadata": {},
   "outputs": [],
   "source": [
    "#instaniate Randomizedsearch for Logisitic Model One vs Rest\n",
    "\n",
    "ovr=OneVsRestClassifier(LogisticRegression(solver='saga', \n",
    "                     tol=1e-2, \n",
    "                     max_iter=200,\n",
    "                     random_state=1,\n",
    "                     n_jobs=1,\n",
    "                     class_weight='balanced',\n",
    "                     multi_class='auto'))\n",
    "\n",
    "distributions = dict(estimator__penalty=['l2','elasticnet'],\n",
    "                     estimator__C=np.arange(1,11)\n",
    "                    )\n",
    "\n",
    "OVRrdm = RandomizedSearchCV(ovr, distributions, random_state=0)"
   ]
  },
  {
   "cell_type": "code",
   "execution_count": 52,
   "metadata": {},
   "outputs": [],
   "source": [
    "\n",
    "#OVRrdm.fit(X_train, y_train)\n",
    "#with open('../models/OVRrdm.pkl', 'wb') as file:\n",
    "#    pickle.dump(OVRrdm, file)\n"
   ]
  },
  {
   "cell_type": "markdown",
   "metadata": {},
   "source": [
    "Load model and predict"
   ]
  },
  {
   "cell_type": "code",
   "execution_count": 53,
   "metadata": {},
   "outputs": [],
   "source": [
    "OVRrdm = pickle.load(open('../models/OVRrdm.pkl', 'rb'))\n",
    "y_pred= OVRrdm.predict(X_test)"
   ]
  },
  {
   "cell_type": "code",
   "execution_count": 54,
   "metadata": {},
   "outputs": [
    {
     "data": {
      "text/plain": [
       "<sklearn.metrics._plot.confusion_matrix.ConfusionMatrixDisplay at 0x223e22eaeb0>"
      ]
     },
     "execution_count": 54,
     "metadata": {},
     "output_type": "execute_result"
    },
    {
     "data": {
      "image/png": "[encoded data removed]",
      "text/plain": [
       "<Figure size 432x288 with 2 Axes>"
      ]
     },
     "metadata": {
      "needs_background": "light"
     },
     "output_type": "display_data"
    }
   ],
   "source": [
    "plot_confusion_matrix(OVRrdm, X_test, y_test)"
   ]
  },
  {
   "cell_type": "code",
   "execution_count": 55,
   "metadata": {
    "scrolled": true
   },
   "outputs": [
    {
     "data": {
      "text/plain": [
       "<AxesSubplot:>"
      ]
     },
     "execution_count": 55,
     "metadata": {},
     "output_type": "execute_result"
    },
    {
     "data": {
      "image/png": "[encoded data removed]",
      "text/plain": [
       "<Figure size 432x288 with 2 Axes>"
      ]
     },
     "metadata": {
      "needs_background": "light"
     },
     "output_type": "display_data"
    }
   ],
   "source": [
    "cf_matrix = confusion_matrix(y_test, y_pred)\n",
    "sns.heatmap(cf_matrix/np.sum(cf_matrix), annot=True, fmt='.2%', cmap='Blues')"
   ]
  },
  {
   "cell_type": "markdown",
   "metadata": {},
   "source": [
    "\n"
   ]
  },
  {
   "cell_type": "code",
   "execution_count": 56,
   "metadata": {},
   "outputs": [
    {
     "data": {
      "text/html": [
       "<div>\n",
       "<style scoped>\n",
       "    .dataframe tbody tr th:only-of-type {\n",
       "        vertical-align: middle;\n",
       "    }\n",
       "\n",
       "    .dataframe tbody tr th {\n",
       "        vertical-align: top;\n",
       "    }\n",
       "\n",
       "    .dataframe thead th {\n",
       "        text-align: right;\n",
       "    }\n",
       "</style>\n",
       "<table border=\"1\" class=\"dataframe\">\n",
       "  <thead>\n",
       "    <tr style=\"text-align: right;\">\n",
       "      <th></th>\n",
       "      <th>precision</th>\n",
       "      <th>recall</th>\n",
       "      <th>f1-score</th>\n",
       "      <th>support</th>\n",
       "    </tr>\n",
       "  </thead>\n",
       "  <tbody>\n",
       "    <tr>\n",
       "      <th>Fatal</th>\n",
       "      <td>0.044836</td>\n",
       "      <td>0.642233</td>\n",
       "      <td>0.083821</td>\n",
       "      <td>8240.000000</td>\n",
       "    </tr>\n",
       "    <tr>\n",
       "      <th>Serious</th>\n",
       "      <td>0.188550</td>\n",
       "      <td>0.322124</td>\n",
       "      <td>0.237868</td>\n",
       "      <td>79758.000000</td>\n",
       "    </tr>\n",
       "    <tr>\n",
       "      <th>Slight</th>\n",
       "      <td>0.912024</td>\n",
       "      <td>0.625201</td>\n",
       "      <td>0.741854</td>\n",
       "      <td>528766.000000</td>\n",
       "    </tr>\n",
       "    <tr>\n",
       "      <th>accuracy</th>\n",
       "      <td>0.586236</td>\n",
       "      <td>0.586236</td>\n",
       "      <td>0.586236</td>\n",
       "      <td>0.586236</td>\n",
       "    </tr>\n",
       "    <tr>\n",
       "      <th>macro avg</th>\n",
       "      <td>0.381803</td>\n",
       "      <td>0.529853</td>\n",
       "      <td>0.354514</td>\n",
       "      <td>616764.000000</td>\n",
       "    </tr>\n",
       "    <tr>\n",
       "      <th>weighted avg</th>\n",
       "      <td>0.806881</td>\n",
       "      <td>0.586236</td>\n",
       "      <td>0.667889</td>\n",
       "      <td>616764.000000</td>\n",
       "    </tr>\n",
       "  </tbody>\n",
       "</table>\n",
       "</div>"
      ],
      "text/plain": [
       "              precision    recall  f1-score        support\n",
       "Fatal          0.044836  0.642233  0.083821    8240.000000\n",
       "Serious        0.188550  0.322124  0.237868   79758.000000\n",
       "Slight         0.912024  0.625201  0.741854  528766.000000\n",
       "accuracy       0.586236  0.586236  0.586236       0.586236\n",
       "macro avg      0.381803  0.529853  0.354514  616764.000000\n",
       "weighted avg   0.806881  0.586236  0.667889  616764.000000"
      ]
     },
     "execution_count": 56,
     "metadata": {},
     "output_type": "execute_result"
    }
   ],
   "source": [
    "crlogmulti2 = pd.DataFrame(classification_report(y_test, y_pred, output_dict=True)).transpose()\n",
    "crlogmulti2\n",
    "\n",
    "#print(classification_report(y_test, y_pred))"
   ]
  },
  {
   "cell_type": "markdown",
   "metadata": {},
   "source": [
    "# SMOTE + Logistic  - Multiclass Model"
   ]
  },
  {
   "cell_type": "markdown",
   "metadata": {},
   "source": [
    "This model was looked at as an attempt to deal with the imbalanced classes within the dataset, by making many synthetic samples for training"
   ]
  },
  {
   "cell_type": "code",
   "execution_count": 57,
   "metadata": {},
   "outputs": [],
   "source": [
    "#import\n",
    "from imblearn.over_sampling import SMOTE"
   ]
  },
  {
   "cell_type": "code",
   "execution_count": 58,
   "metadata": {},
   "outputs": [],
   "source": [
    "#slipt\n",
    "X_train, X_test, y_train, y_test = train_test_split(X,onedimy, test_size=0.30, random_state=42)"
   ]
  },
  {
   "cell_type": "markdown",
   "metadata": {},
   "source": [
    "This step is commented out becasue of the time it takes to create the syntetic samples, and the model ans been created/fit/saved already  below"
   ]
  },
  {
   "cell_type": "code",
   "execution_count": 59,
   "metadata": {},
   "outputs": [],
   "source": [
    "#instantiate/fit --create synthetic data\n",
    "#oversample = SMOTE()\n",
    "#X_train, y_train = oversample.fit_resample(X_train, y_train)"
   ]
  },
  {
   "cell_type": "code",
   "execution_count": 60,
   "metadata": {},
   "outputs": [],
   "source": [
    "#X_train.shape, y_train.shape"
   ]
  },
  {
   "cell_type": "code",
   "execution_count": 61,
   "metadata": {},
   "outputs": [],
   "source": [
    "ovr=OneVsRestClassifier(LogisticRegression(solver='saga', \n",
    "                     tol=1e-2, \n",
    "                     max_iter=200,\n",
    "                     random_state=1,\n",
    "                     n_jobs=1,\n",
    "                     class_weight='balanced',\n",
    "                     multi_class='auto'))\n",
    "\n",
    "distributions = dict(estimator__penalty=['l2','elasticnet'],\n",
    "                     estimator__C=np.arange(1,11)\n",
    "                    )\n",
    "\n",
    "OVR_rdm_SMOTE = RandomizedSearchCV(ovr, distributions, random_state=0)"
   ]
  },
  {
   "cell_type": "code",
   "execution_count": 62,
   "metadata": {},
   "outputs": [],
   "source": [
    "#OVR_rdm_SMOTE.fit(X_train, y_train)\n",
    "#with open('../models/OVR_rdm_SMOTE.pkl', 'wb') as file:\n",
    "#    pickle.dump(OVR_rdm_SMOTE, file)"
   ]
  },
  {
   "cell_type": "markdown",
   "metadata": {},
   "source": [
    "Load model and predict"
   ]
  },
  {
   "cell_type": "code",
   "execution_count": 63,
   "metadata": {},
   "outputs": [],
   "source": [
    "OVR_rdm_SMOTE = pickle.load(open('../models/OVR_rdm_SMOTE.pkl', 'rb'))\n",
    "y_pred = OVR_rdm_SMOTE.predict(X_test)"
   ]
  },
  {
   "cell_type": "code",
   "execution_count": 64,
   "metadata": {},
   "outputs": [
    {
     "data": {
      "text/plain": [
       "<sklearn.metrics._plot.confusion_matrix.ConfusionMatrixDisplay at 0x223e2521eb0>"
      ]
     },
     "execution_count": 64,
     "metadata": {},
     "output_type": "execute_result"
    },
    {
     "data": {
      "image/png": "[encoded data removed]",
      "text/plain": [
       "<Figure size 432x288 with 2 Axes>"
      ]
     },
     "metadata": {
      "needs_background": "light"
     },
     "output_type": "display_data"
    }
   ],
   "source": [
    "#y_pred = OVR_rdm_SMOTE.predict(X_test)\n",
    "plot_confusion_matrix(OVR_rdm_SMOTE, X_test, y_test)"
   ]
  },
  {
   "cell_type": "code",
   "execution_count": 65,
   "metadata": {},
   "outputs": [
    {
     "data": {
      "text/html": [
       "<div>\n",
       "<style scoped>\n",
       "    .dataframe tbody tr th:only-of-type {\n",
       "        vertical-align: middle;\n",
       "    }\n",
       "\n",
       "    .dataframe tbody tr th {\n",
       "        vertical-align: top;\n",
       "    }\n",
       "\n",
       "    .dataframe thead th {\n",
       "        text-align: right;\n",
       "    }\n",
       "</style>\n",
       "<table border=\"1\" class=\"dataframe\">\n",
       "  <thead>\n",
       "    <tr style=\"text-align: right;\">\n",
       "      <th></th>\n",
       "      <th>precision</th>\n",
       "      <th>recall</th>\n",
       "      <th>f1-score</th>\n",
       "      <th>support</th>\n",
       "    </tr>\n",
       "  </thead>\n",
       "  <tbody>\n",
       "    <tr>\n",
       "      <th>Fatal</th>\n",
       "      <td>0.202830</td>\n",
       "      <td>0.005218</td>\n",
       "      <td>0.010175</td>\n",
       "      <td>8240.000000</td>\n",
       "    </tr>\n",
       "    <tr>\n",
       "      <th>Serious</th>\n",
       "      <td>0.221739</td>\n",
       "      <td>0.000639</td>\n",
       "      <td>0.001275</td>\n",
       "      <td>79758.000000</td>\n",
       "    </tr>\n",
       "    <tr>\n",
       "      <th>Slight</th>\n",
       "      <td>0.857477</td>\n",
       "      <td>0.999463</td>\n",
       "      <td>0.923042</td>\n",
       "      <td>528766.000000</td>\n",
       "    </tr>\n",
       "    <tr>\n",
       "      <th>accuracy</th>\n",
       "      <td>0.857015</td>\n",
       "      <td>0.857015</td>\n",
       "      <td>0.857015</td>\n",
       "      <td>0.857015</td>\n",
       "    </tr>\n",
       "    <tr>\n",
       "      <th>macro avg</th>\n",
       "      <td>0.427349</td>\n",
       "      <td>0.335107</td>\n",
       "      <td>0.311497</td>\n",
       "      <td>616764.000000</td>\n",
       "    </tr>\n",
       "    <tr>\n",
       "      <th>weighted avg</th>\n",
       "      <td>0.766519</td>\n",
       "      <td>0.857015</td>\n",
       "      <td>0.791646</td>\n",
       "      <td>616764.000000</td>\n",
       "    </tr>\n",
       "  </tbody>\n",
       "</table>\n",
       "</div>"
      ],
      "text/plain": [
       "              precision    recall  f1-score        support\n",
       "Fatal          0.202830  0.005218  0.010175    8240.000000\n",
       "Serious        0.221739  0.000639  0.001275   79758.000000\n",
       "Slight         0.857477  0.999463  0.923042  528766.000000\n",
       "accuracy       0.857015  0.857015  0.857015       0.857015\n",
       "macro avg      0.427349  0.335107  0.311497  616764.000000\n",
       "weighted avg   0.766519  0.857015  0.791646  616764.000000"
      ]
     },
     "execution_count": 65,
     "metadata": {},
     "output_type": "execute_result"
    }
   ],
   "source": [
    "crsmotemulti = pd.DataFrame(classification_report(y_test, y_pred, output_dict=True)).transpose()\n",
    "crsmotemulti\n"
   ]
  },
  {
   "cell_type": "markdown",
   "metadata": {},
   "source": [
    "The combonation of SMOTE, Logistic/One Vs. Rest, produced a poor model. It end up classifying most observations as \"Slight\""
   ]
  },
  {
   "cell_type": "markdown",
   "metadata": {},
   "source": [
    "# Random Forest Model - MultiClass "
   ]
  },
  {
   "cell_type": "code",
   "execution_count": 66,
   "metadata": {},
   "outputs": [],
   "source": [
    "clfmulti = RandomForestClassifier()\n",
    "\n",
    "random_grid ={'max_depth': [2,5,7],\n",
    "             'min_samples_leaf': [1, 3, 5],\n",
    "             'min_samples_split': [2, 3, 4, 5],\n",
    "             'n_estimators': [200],\n",
    "             'class_weight' : [\"balanced\"]\n",
    "             }\n",
    "\n",
    "rfclfmulti = RandomizedSearchCV(clfmulti, param_distributions = random_grid, n_jobs=1)"
   ]
  },
  {
   "cell_type": "code",
   "execution_count": 67,
   "metadata": {},
   "outputs": [],
   "source": [
    "#rfclfmulti.fit(X_train, y_train)\n",
    "#with open('../models/rfclfmulti.pkl', 'wb') as file:\n",
    "#    pickle.dump(rfclfmulti, file)"
   ]
  },
  {
   "cell_type": "code",
   "execution_count": 68,
   "metadata": {},
   "outputs": [],
   "source": [
    "rfclfmulti = pickle.load(open('../models/rfclfmulti.pkl', 'rb'))\n",
    "y_pred = rfclfmulti.predict(X_test)"
   ]
  },
  {
   "cell_type": "code",
   "execution_count": 69,
   "metadata": {},
   "outputs": [
    {
     "data": {
      "text/plain": [
       "<sklearn.metrics._plot.confusion_matrix.ConfusionMatrixDisplay at 0x223e0b044f0>"
      ]
     },
     "execution_count": 69,
     "metadata": {},
     "output_type": "execute_result"
    },
    {
     "data": {
      "image/png": "[encoded data removed]",
      "text/plain": [
       "<Figure size 432x288 with 2 Axes>"
      ]
     },
     "metadata": {
      "needs_background": "light"
     },
     "output_type": "display_data"
    }
   ],
   "source": [
    "plot_confusion_matrix(rfclfmulti, X_test, y_test)"
   ]
  },
  {
   "cell_type": "code",
   "execution_count": 70,
   "metadata": {},
   "outputs": [
    {
     "data": {
      "text/plain": [
       "<AxesSubplot:>"
      ]
     },
     "execution_count": 70,
     "metadata": {},
     "output_type": "execute_result"
    },
    {
     "data": {
      "image/png": "[encoded data removed]",
      "text/plain": [
       "<Figure size 432x288 with 2 Axes>"
      ]
     },
     "metadata": {
      "needs_background": "light"
     },
     "output_type": "display_data"
    }
   ],
   "source": [
    "cf_matrix = confusion_matrix(y_test, y_pred)\n",
    "sns.heatmap(cf_matrix/np.sum(cf_matrix), annot=True, fmt='.2%', cmap='Blues')"
   ]
  },
  {
   "cell_type": "code",
   "execution_count": 71,
   "metadata": {},
   "outputs": [],
   "source": [
    "#print(classification_report(y_test, y_pred))"
   ]
  },
  {
   "cell_type": "code",
   "execution_count": 72,
   "metadata": {
    "scrolled": true
   },
   "outputs": [
    {
     "data": {
      "text/html": [
       "<div>\n",
       "<style scoped>\n",
       "    .dataframe tbody tr th:only-of-type {\n",
       "        vertical-align: middle;\n",
       "    }\n",
       "\n",
       "    .dataframe tbody tr th {\n",
       "        vertical-align: top;\n",
       "    }\n",
       "\n",
       "    .dataframe thead th {\n",
       "        text-align: right;\n",
       "    }\n",
       "</style>\n",
       "<table border=\"1\" class=\"dataframe\">\n",
       "  <thead>\n",
       "    <tr style=\"text-align: right;\">\n",
       "      <th></th>\n",
       "      <th>precision</th>\n",
       "      <th>recall</th>\n",
       "      <th>f1-score</th>\n",
       "      <th>support</th>\n",
       "    </tr>\n",
       "  </thead>\n",
       "  <tbody>\n",
       "    <tr>\n",
       "      <th>Fatal</th>\n",
       "      <td>0.035573</td>\n",
       "      <td>0.685073</td>\n",
       "      <td>0.067634</td>\n",
       "      <td>8240.000000</td>\n",
       "    </tr>\n",
       "    <tr>\n",
       "      <th>Serious</th>\n",
       "      <td>0.186658</td>\n",
       "      <td>0.198037</td>\n",
       "      <td>0.192179</td>\n",
       "      <td>79758.000000</td>\n",
       "    </tr>\n",
       "    <tr>\n",
       "      <th>Slight</th>\n",
       "      <td>0.902283</td>\n",
       "      <td>0.637263</td>\n",
       "      <td>0.746962</td>\n",
       "      <td>528766.000000</td>\n",
       "    </tr>\n",
       "    <tr>\n",
       "      <th>accuracy</th>\n",
       "      <td>0.581102</td>\n",
       "      <td>0.581102</td>\n",
       "      <td>0.581102</td>\n",
       "      <td>0.581102</td>\n",
       "    </tr>\n",
       "    <tr>\n",
       "      <th>macro avg</th>\n",
       "      <td>0.374838</td>\n",
       "      <td>0.506791</td>\n",
       "      <td>0.335592</td>\n",
       "      <td>616764.000000</td>\n",
       "    </tr>\n",
       "    <tr>\n",
       "      <th>weighted avg</th>\n",
       "      <td>0.798161</td>\n",
       "      <td>0.581102</td>\n",
       "      <td>0.666144</td>\n",
       "      <td>616764.000000</td>\n",
       "    </tr>\n",
       "  </tbody>\n",
       "</table>\n",
       "</div>"
      ],
      "text/plain": [
       "              precision    recall  f1-score        support\n",
       "Fatal          0.035573  0.685073  0.067634    8240.000000\n",
       "Serious        0.186658  0.198037  0.192179   79758.000000\n",
       "Slight         0.902283  0.637263  0.746962  528766.000000\n",
       "accuracy       0.581102  0.581102  0.581102       0.581102\n",
       "macro avg      0.374838  0.506791  0.335592  616764.000000\n",
       "weighted avg   0.798161  0.581102  0.666144  616764.000000"
      ]
     },
     "execution_count": 72,
     "metadata": {},
     "output_type": "execute_result"
    }
   ],
   "source": [
    "crrdfmulti = pd.DataFrame(classification_report(y_test, y_pred, output_dict=True)).transpose()\n",
    "crrdfmulti"
   ]
  },
  {
   "cell_type": "markdown",
   "metadata": {},
   "source": [
    "# Conclusions/Discussion"
   ]
  },
  {
   "cell_type": "markdown",
   "metadata": {},
   "source": [
    "My first idea with these selected features was to look at just the accidents that result in Fatalities, and see if that was predictable. I went through many iterations of modeling parameters/tuning, and my results are below.\n",
    "\n",
    "First we will combined the results of our \"Fatal\" or \"Non-Fatal\" classification tables into one table for comparison.\n",
    "\n"
   ]
  },
  {
   "cell_type": "code",
   "execution_count": 160,
   "metadata": {},
   "outputs": [],
   "source": [
    "#here I am creating lists of the classification reports for each model, to be merged together for comparison\n",
    "classification_reports_binary_models = [crlogbinary, crrfbinary, crxgbbinary] \n",
    "classification_reports_multiclass_models = [crlogmulti1, crlogmulti2, crrdfmulti, crsmotemulti] "
   ]
  },
  {
   "cell_type": "code",
   "execution_count": 156,
   "metadata": {},
   "outputs": [],
   "source": [
    "binarydf = pd.concat(classification_reports_binary_models, axis=1)\n",
    "binary_df = binarydf.drop(columns='support')"
   ]
  },
  {
   "cell_type": "code",
   "execution_count": 158,
   "metadata": {},
   "outputs": [
    {
     "data": {
      "text/html": [
       "<div>\n",
       "<style scoped>\n",
       "    .dataframe tbody tr th:only-of-type {\n",
       "        vertical-align: middle;\n",
       "    }\n",
       "\n",
       "    .dataframe tbody tr th {\n",
       "        vertical-align: top;\n",
       "    }\n",
       "\n",
       "    .dataframe thead tr th {\n",
       "        text-align: left;\n",
       "    }\n",
       "</style>\n",
       "<table border=\"1\" class=\"dataframe\">\n",
       "  <thead>\n",
       "    <tr>\n",
       "      <th></th>\n",
       "      <th colspan=\"3\" halign=\"left\">Logistic Binary Response</th>\n",
       "      <th colspan=\"3\" halign=\"left\">Random Forest Binary Response</th>\n",
       "      <th colspan=\"3\" halign=\"left\">XGB Binary Response</th>\n",
       "    </tr>\n",
       "    <tr>\n",
       "      <th></th>\n",
       "      <th>precision</th>\n",
       "      <th>recall</th>\n",
       "      <th>F1-Score</th>\n",
       "      <th>precision</th>\n",
       "      <th>recall</th>\n",
       "      <th>F1-Score</th>\n",
       "      <th>precision</th>\n",
       "      <th>recall</th>\n",
       "      <th>F1-Score</th>\n",
       "    </tr>\n",
       "  </thead>\n",
       "  <tbody>\n",
       "    <tr>\n",
       "      <th>Not Fatal</th>\n",
       "      <td>0.995444</td>\n",
       "      <td>0.749298</td>\n",
       "      <td>0.855008</td>\n",
       "      <td>0.994651</td>\n",
       "      <td>0.729404</td>\n",
       "      <td>0.841623</td>\n",
       "      <td>0.995360</td>\n",
       "      <td>0.742426</td>\n",
       "      <td>0.850486</td>\n",
       "    </tr>\n",
       "    <tr>\n",
       "      <th>Fatal</th>\n",
       "      <td>0.038769</td>\n",
       "      <td>0.746723</td>\n",
       "      <td>0.073710</td>\n",
       "      <td>0.034325</td>\n",
       "      <td>0.710316</td>\n",
       "      <td>0.065486</td>\n",
       "      <td>0.037661</td>\n",
       "      <td>0.744417</td>\n",
       "      <td>0.071695</td>\n",
       "    </tr>\n",
       "    <tr>\n",
       "      <th>accuracy</th>\n",
       "      <td>0.749264</td>\n",
       "      <td>0.749264</td>\n",
       "      <td>0.749264</td>\n",
       "      <td>0.729149</td>\n",
       "      <td>0.729149</td>\n",
       "      <td>0.729149</td>\n",
       "      <td>0.742453</td>\n",
       "      <td>0.742453</td>\n",
       "      <td>0.742453</td>\n",
       "    </tr>\n",
       "    <tr>\n",
       "      <th>macro avg</th>\n",
       "      <td>0.517106</td>\n",
       "      <td>0.748011</td>\n",
       "      <td>0.464359</td>\n",
       "      <td>0.514488</td>\n",
       "      <td>0.719860</td>\n",
       "      <td>0.453554</td>\n",
       "      <td>0.516511</td>\n",
       "      <td>0.743422</td>\n",
       "      <td>0.461090</td>\n",
       "    </tr>\n",
       "    <tr>\n",
       "      <th>weighted avg</th>\n",
       "      <td>0.982663</td>\n",
       "      <td>0.749264</td>\n",
       "      <td>0.844570</td>\n",
       "      <td>0.981821</td>\n",
       "      <td>0.729149</td>\n",
       "      <td>0.831254</td>\n",
       "      <td>0.982565</td>\n",
       "      <td>0.742453</td>\n",
       "      <td>0.840081</td>\n",
       "    </tr>\n",
       "  </tbody>\n",
       "</table>\n",
       "</div>"
      ],
      "text/plain": [
       "             Logistic Binary Response                      \\\n",
       "                            precision    recall  F1-Score   \n",
       "Not Fatal                    0.995444  0.749298  0.855008   \n",
       "Fatal                        0.038769  0.746723  0.073710   \n",
       "accuracy                     0.749264  0.749264  0.749264   \n",
       "macro avg                    0.517106  0.748011  0.464359   \n",
       "weighted avg                 0.982663  0.749264  0.844570   \n",
       "\n",
       "             Random Forest Binary Response                      \\\n",
       "                                 precision    recall  F1-Score   \n",
       "Not Fatal                         0.994651  0.729404  0.841623   \n",
       "Fatal                             0.034325  0.710316  0.065486   \n",
       "accuracy                          0.729149  0.729149  0.729149   \n",
       "macro avg                         0.514488  0.719860  0.453554   \n",
       "weighted avg                      0.981821  0.729149  0.831254   \n",
       "\n",
       "             XGB Binary Response                      \n",
       "                       precision    recall  F1-Score  \n",
       "Not Fatal               0.995360  0.742426  0.850486  \n",
       "Fatal                   0.037661  0.744417  0.071695  \n",
       "accuracy                0.742453  0.742453  0.742453  \n",
       "macro avg               0.516511  0.743422  0.461090  \n",
       "weighted avg            0.982565  0.742453  0.840081  "
      ]
     },
     "execution_count": 158,
     "metadata": {},
     "output_type": "execute_result"
    }
   ],
   "source": [
    "index1 =  pd.MultiIndex.from_tuples([\n",
    "('Logistic Binary Response', 'precision'), \n",
    "('Logistic Binary Response', 'recall'),\n",
    "('Logistic Binary Response', 'F1-Score'),\n",
    "('Random Forest Binary Response', 'precision'),\n",
    "('Random Forest Binary Response', 'recall'),\n",
    "('Random Forest Binary Response', 'F1-Score'),\n",
    "('XGB Binary Response', 'precision'),\n",
    "('XGB Binary Response', 'recall'),\n",
    "('XGB Binary Response', 'F1-Score')\n",
    "])\n",
    "binary_df.columns=index1\n",
    "binary_df"
   ]
  },
  {
   "cell_type": "markdown",
   "metadata": {},
   "source": [
    "I am sure there are more elegant ways to arrive at this table, but we can see that if we are just trying to predict \"Fatal\" vs. \"Non-Fatal\", the model that gives the best performance is the first model, the \"Logsitic Model\", it classifies 74.7 percent of True/Actual Fatal accident at Predicted Fatal.\n",
    "\n",
    "However, it does this at the cost of classifying many Non-Fatal accidents as Fatal. That said, predicting 74% of actual fatalities correctly as fatalities,  could be very valuable information(even if it classifies a significant number Fatal that are not) , \n",
    "\n",
    "To imagine this used in a \"live\" setting, it could be used at a warning:\n",
    "\n",
    "Ex. \"Please consider delaying your planned drive,vehicle accidents in these conditions are predicted to be Fatal, wait 30 minutes and refresh your route\". \n",
    "\n",
    "Anyone can imagine a warning such as this from your vehicle, or navigation device, would be effective at increasing \"caution\" when driving. "
   ]
  },
  {
   "cell_type": "code",
   "execution_count": 142,
   "metadata": {},
   "outputs": [],
   "source": [
    "multidf  = pd.concat([crlogmulti1, crlogmulti2, crrdfmulti, crsmotemulti], axis=1)\n",
    "multidf = multidf.drop(columns = 'support')"
   ]
  },
  {
   "cell_type": "code",
   "execution_count": 143,
   "metadata": {},
   "outputs": [
    {
     "data": {
      "text/html": [
       "<div>\n",
       "<style scoped>\n",
       "    .dataframe tbody tr th:only-of-type {\n",
       "        vertical-align: middle;\n",
       "    }\n",
       "\n",
       "    .dataframe tbody tr th {\n",
       "        vertical-align: top;\n",
       "    }\n",
       "\n",
       "    .dataframe thead tr th {\n",
       "        text-align: left;\n",
       "    }\n",
       "</style>\n",
       "<table border=\"1\" class=\"dataframe\">\n",
       "  <thead>\n",
       "    <tr>\n",
       "      <th></th>\n",
       "      <th colspan=\"3\" halign=\"left\">Logistic Model Multiclass</th>\n",
       "      <th colspan=\"3\" halign=\"left\">Logistic Model Multiclass OneVsRest</th>\n",
       "      <th colspan=\"3\" halign=\"left\">Random Forest Multiclass</th>\n",
       "      <th colspan=\"3\" halign=\"left\">Smote Logistic Multiclass</th>\n",
       "    </tr>\n",
       "    <tr>\n",
       "      <th></th>\n",
       "      <th>precision</th>\n",
       "      <th>recall</th>\n",
       "      <th>F1-Score</th>\n",
       "      <th>precision</th>\n",
       "      <th>recall</th>\n",
       "      <th>F1-Score</th>\n",
       "      <th>precision</th>\n",
       "      <th>recall</th>\n",
       "      <th>F1-Score</th>\n",
       "      <th>precision</th>\n",
       "      <th>recall</th>\n",
       "      <th>F1-Score</th>\n",
       "    </tr>\n",
       "  </thead>\n",
       "  <tbody>\n",
       "    <tr>\n",
       "      <th>Fatal</th>\n",
       "      <td>0.043597</td>\n",
       "      <td>0.673422</td>\n",
       "      <td>0.081892</td>\n",
       "      <td>0.044836</td>\n",
       "      <td>0.642233</td>\n",
       "      <td>0.083821</td>\n",
       "      <td>0.035573</td>\n",
       "      <td>0.685073</td>\n",
       "      <td>0.067634</td>\n",
       "      <td>0.202830</td>\n",
       "      <td>0.005218</td>\n",
       "      <td>0.010175</td>\n",
       "    </tr>\n",
       "    <tr>\n",
       "      <th>Serious</th>\n",
       "      <td>0.182803</td>\n",
       "      <td>0.304584</td>\n",
       "      <td>0.228479</td>\n",
       "      <td>0.188550</td>\n",
       "      <td>0.322124</td>\n",
       "      <td>0.237868</td>\n",
       "      <td>0.186658</td>\n",
       "      <td>0.198037</td>\n",
       "      <td>0.192179</td>\n",
       "      <td>0.221739</td>\n",
       "      <td>0.000639</td>\n",
       "      <td>0.001275</td>\n",
       "    </tr>\n",
       "    <tr>\n",
       "      <th>Slight</th>\n",
       "      <td>0.912771</td>\n",
       "      <td>0.615560</td>\n",
       "      <td>0.735266</td>\n",
       "      <td>0.912024</td>\n",
       "      <td>0.625201</td>\n",
       "      <td>0.741854</td>\n",
       "      <td>0.902283</td>\n",
       "      <td>0.637263</td>\n",
       "      <td>0.746962</td>\n",
       "      <td>0.857477</td>\n",
       "      <td>0.999463</td>\n",
       "      <td>0.923042</td>\n",
       "    </tr>\n",
       "    <tr>\n",
       "      <th>accuracy</th>\n",
       "      <td>0.576118</td>\n",
       "      <td>0.576118</td>\n",
       "      <td>0.576118</td>\n",
       "      <td>0.586236</td>\n",
       "      <td>0.586236</td>\n",
       "      <td>0.586236</td>\n",
       "      <td>0.581102</td>\n",
       "      <td>0.581102</td>\n",
       "      <td>0.581102</td>\n",
       "      <td>0.857015</td>\n",
       "      <td>0.857015</td>\n",
       "      <td>0.857015</td>\n",
       "    </tr>\n",
       "    <tr>\n",
       "      <th>macro avg</th>\n",
       "      <td>0.379724</td>\n",
       "      <td>0.531189</td>\n",
       "      <td>0.348546</td>\n",
       "      <td>0.381803</td>\n",
       "      <td>0.529853</td>\n",
       "      <td>0.354514</td>\n",
       "      <td>0.374838</td>\n",
       "      <td>0.506791</td>\n",
       "      <td>0.335592</td>\n",
       "      <td>0.427349</td>\n",
       "      <td>0.335107</td>\n",
       "      <td>0.311497</td>\n",
       "    </tr>\n",
       "    <tr>\n",
       "      <th>weighted avg</th>\n",
       "      <td>0.806762</td>\n",
       "      <td>0.576118</td>\n",
       "      <td>0.661001</td>\n",
       "      <td>0.806881</td>\n",
       "      <td>0.586236</td>\n",
       "      <td>0.667889</td>\n",
       "      <td>0.798161</td>\n",
       "      <td>0.581102</td>\n",
       "      <td>0.666144</td>\n",
       "      <td>0.766519</td>\n",
       "      <td>0.857015</td>\n",
       "      <td>0.791646</td>\n",
       "    </tr>\n",
       "  </tbody>\n",
       "</table>\n",
       "</div>"
      ],
      "text/plain": [
       "             Logistic Model Multiclass                      \\\n",
       "                             precision    recall  F1-Score   \n",
       "Fatal                         0.043597  0.673422  0.081892   \n",
       "Serious                       0.182803  0.304584  0.228479   \n",
       "Slight                        0.912771  0.615560  0.735266   \n",
       "accuracy                      0.576118  0.576118  0.576118   \n",
       "macro avg                     0.379724  0.531189  0.348546   \n",
       "weighted avg                  0.806762  0.576118  0.661001   \n",
       "\n",
       "             Logistic Model Multiclass OneVsRest                      \\\n",
       "                                       precision    recall  F1-Score   \n",
       "Fatal                                   0.044836  0.642233  0.083821   \n",
       "Serious                                 0.188550  0.322124  0.237868   \n",
       "Slight                                  0.912024  0.625201  0.741854   \n",
       "accuracy                                0.586236  0.586236  0.586236   \n",
       "macro avg                               0.381803  0.529853  0.354514   \n",
       "weighted avg                            0.806881  0.586236  0.667889   \n",
       "\n",
       "             Random Forest Multiclass                      \\\n",
       "                            precision    recall  F1-Score   \n",
       "Fatal                        0.035573  0.685073  0.067634   \n",
       "Serious                      0.186658  0.198037  0.192179   \n",
       "Slight                       0.902283  0.637263  0.746962   \n",
       "accuracy                     0.581102  0.581102  0.581102   \n",
       "macro avg                    0.374838  0.506791  0.335592   \n",
       "weighted avg                 0.798161  0.581102  0.666144   \n",
       "\n",
       "             Smote Logistic Multiclass                      \n",
       "                             precision    recall  F1-Score  \n",
       "Fatal                         0.202830  0.005218  0.010175  \n",
       "Serious                       0.221739  0.000639  0.001275  \n",
       "Slight                        0.857477  0.999463  0.923042  \n",
       "accuracy                      0.857015  0.857015  0.857015  \n",
       "macro avg                     0.427349  0.335107  0.311497  \n",
       "weighted avg                  0.766519  0.857015  0.791646  "
      ]
     },
     "execution_count": 143,
     "metadata": {},
     "output_type": "execute_result"
    }
   ],
   "source": [
    "index =  pd.MultiIndex.from_tuples([\n",
    "('Logistic Model Multiclass', 'precision'), \n",
    "('Logistic Model Multiclass', 'recall'),\n",
    "('Logistic Model Multiclass', 'F1-Score'),\n",
    "('Logistic Model Multiclass OneVsRest', 'precision'),\n",
    "('Logistic Model Multiclass OneVsRest', 'recall'),\n",
    "('Logistic Model Multiclass OneVsRest', 'F1-Score'),\n",
    "('Random Forest Multiclass', 'precision'),\n",
    "('Random Forest Multiclass', 'recall'),\n",
    "('Random Forest Multiclass', 'F1-Score'),\n",
    "('Smote Logistic Multiclass', 'precision'),\n",
    "('Smote Logistic Multiclass', 'recall'),\n",
    "('Smote Logistic Multiclass', 'F1-Score'),\n",
    "])\n",
    "multidf.columns =index\n",
    "multidf"
   ]
  },
  {
   "cell_type": "markdown",
   "metadata": {},
   "source": [
    "# Best Model"
   ]
  },
  {
   "cell_type": "markdown",
   "metadata": {},
   "source": [
    "The idea of this project was to use variables/features of an accident that a present before or during the accident, weather conditions/driver info/vehicle info/time of day/road info, to predict the severity of the resultant accident(s)\n",
    "\n",
    "\n",
    "Once again, I am sure there are more elegant ways to produce this table. Three of the models are faily close to one another, the SMOTE/Logistic model I produced performed extremely poorly and will be thrown out of consideration. \n",
    "\n",
    "Of the remaning models produced, I prefer the \"Logistic Model Multiclass One VS. Rest model\".\n",
    "\n",
    "It is not the best predictor for the \"Fatal\" category, however, it correctly classifies 32% of Serious Category, where as the other do not perform well in this category, and does well with the Slight category as well. \n",
    "\n",
    "It has the highest accuracy score, at %58.6 of observations, which, on its surface is not great in the world of classifiers.\n",
    "\n",
    "This modeling notebook was a learning experience for me in many respects, model tuning, pickling/loading models, the use of Several Modeling techiniques and evaluation methods. "
   ]
  },
  {
   "cell_type": "markdown",
   "metadata": {},
   "source": [
    "# Ideas to investigate further"
   ]
  },
  {
   "cell_type": "markdown",
   "metadata": {},
   "source": [
    "\n",
    "I felt my knowledge/use of XGB classifier was limited/fledgling, and I know it is a powerful classifer. I feel that there could be gains to be had with this model, however, I just dont have the experience with it(at this point) and time to spend to tune it correctly. \n",
    "\n",
    "I also attempted the use of SMOTE, however, it did not produce great results and it took quite a bit of time to create the synthetic training set, and then train the model.  I may revisit this."
   ]
  }
 ],
 "metadata": {
  "kernelspec": {
   "display_name": "Python 3",
   "language": "python",
   "name": "python3"
  },
  "language_info": {
   "codemirror_mode": {
    "name": "ipython",
    "version": 3
   },
   "file_extension": ".py",
   "mimetype": "text/x-python",
   "name": "python",
   "nbconvert_exporter": "python",
   "pygments_lexer": "ipython3",
   "version": "3.8.5"
  }
 },
 "nbformat": 4,
 "nbformat_minor": 4
}
